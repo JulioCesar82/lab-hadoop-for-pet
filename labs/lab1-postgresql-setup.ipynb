{
 "cells": [
  {
   "cell_type": "markdown",
   "metadata": {},
   "source": [
    "# Lab 1: Configuração Interativa do Banco de Dados (PostgreSQL)\n",
    "\n",
    "Este notebook executa a configuração do banco de dados PostgreSQL de forma interativa. As células de código a seguir irão se conectar ao contêiner do banco de dados e executar os scripts de criação de tabelas (DDL) e inserção de dados (DML) usando Python."
   ]
  },
  {
   "cell_type": "markdown",
   "metadata": {},
   "source": [
    "## 1. Inicializar os bancos de dados\n",
    "\n",
    "Etapa obrigatória, pois todos os serviços iniciam desligados para que o MYBinder consiga inicializar o Container."
   ]
  },
  {
   "cell_type": "code",
   "execution_count": null,
   "metadata": {},
   "outputs": [],
   "source": [
    "!/usr/local/bin/entrypoint.sh"
   ]
  },
  {
   "cell_type": "markdown",
   "metadata": {},
   "source": [
    "## 2. Conexão e Execução dos Scripts\n",
    "\n",
    "A célula abaixo contém todo o processo:\n",
    "1.  Importa as bibliotecas necessárias.\n",
    "2.  Define as queries DDL e DML.\n",
    "3.  Estabelece uma conexão com o contêiner `petshop_db` (o nome do serviço no `docker-compose`).\n",
    "4.  Cria um cursor e executa as queries.\n",
    "5.  Confirma as transações e fecha a conexão."
   ]
  },
  {
   "cell_type": "code",
   "execution_count": null,
   "metadata": {},
   "outputs": [],
   "source": [
    "import psycopg2\n",
    "import os\n",
    "\n",
    "# As credenciais e o host são baseados no arquivo docker-compose.txt\n",
    "DB_HOST = \"localhost\" # Nome do serviço no Docker Compose\n",
    "DB_NAME = \"postgres\"\n",
    "DB_USER = \"postgres\"\n",
    "DB_USER_PWD = \"postgres\"\n",
    "\n",
    "DDL_SCRIPT = \"\"\"\n",
    "CREATE TABLE IF NOT EXISTS tutor (\n",
    "    tutor_id SERIAL PRIMARY KEY,\n",
    "    nome VARCHAR(255) NOT NULL,\n",
    "    email VARCHAR(255) UNIQUE NOT NULL\n",
    ");\n",
    "\n",
    "CREATE TABLE IF NOT EXISTS pet (\n",
    "    pet_id SERIAL PRIMARY KEY,\n",
    "    tutor_id INTEGER NOT NULL REFERENCES tutor(tutor_id),\n",
    "    nome VARCHAR(100) NOT NULL,\n",
    "    especie VARCHAR(50) NOT NULL,\n",
    "    tipo_pelo VARCHAR(50)\n",
    ");\n",
    "\n",
    "CREATE TABLE IF NOT EXISTS agendamento (\n",
    "    agendamento_id SERIAL PRIMARY KEY,\n",
    "    pet_id INTEGER NOT NULL REFERENCES pet(pet_id),\n",
    "    tipo_servico VARCHAR(100) NOT NULL,\n",
    "    data_agendamento TIMESTAMP WITH TIME ZONE NOT NULL,\n",
    "    status VARCHAR(50) NOT NULL\n",
    ");\n",
    "\n",
    "CREATE TABLE IF NOT EXISTS produto (\n",
    "    produto_id SERIAL PRIMARY KEY,\n",
    "    nome_produto VARCHAR(255) NOT NULL,\n",
    "    categoria VARCHAR(100),\n",
    "    preco NUMERIC(10, 2) NOT NULL\n",
    ");\n",
    "\n",
    "CREATE TABLE IF NOT EXISTS compra (\n",
    "    compra_id SERIAL PRIMARY KEY,\n",
    "    tutor_id INTEGER NOT NULL REFERENCES tutor(tutor_id),\n",
    "    produto_id INTEGER NOT NULL REFERENCES produto(produto_id),\n",
    "    data_compra DATE NOT NULL,\n",
    "    quantidade INTEGER NOT NULL\n",
    ");\n",
    "\"\"\"\n",
    "\n",
    "DML_SCRIPT = \"\"\"\n",
    "INSERT INTO tutor (nome, email) VALUES\n",
    "('Ana Carolina', 'ana.carolina@email.com'),\n",
    "('Bruno Martins', 'bruno.martins@email.com')\n",
    "ON CONFLICT (email) DO NOTHING;\n",
    "\n",
    "INSERT INTO pet (tutor_id, nome, especie, tipo_pelo) VALUES\n",
    "(1, 'Bidu', 'Cão', 'Longo'),\n",
    "(1, 'Luna', 'Gato', 'Curto'),\n",
    "(2, 'Thor', 'Cão', 'Longo');\n",
    "\n",
    "INSERT INTO agendamento (pet_id, tipo_servico, data_agendamento, status) VALUES\n",
    "(1, 'Banho e Tosa Completa', '2025-04-10 14:00:00', 'Realizado'),\n",
    "(1, 'Banho e Tosa Completa', '2025-05-11 14:00:00', 'Realizado'),\n",
    "(1, 'Banho e Tosa Completa', '2025-06-12 14:00:00', 'Realizado'),\n",
    "(3, 'Banho', '2025-07-01 11:00:00', 'Realizado');\n",
    "\n",
    "INSERT INTO produto (nome_produto, categoria, preco) VALUES\n",
    "('Ração para Cães de Pelo Longo', 'Alimentação', 75.50),\n",
    "('Shampoo Hipoalergênico para Cães', 'Higiene', 30.00);\n",
    "\n",
    "INSERT INTO compra (tutor_id, produto_id, data_compra, quantidade) VALUES\n",
    "(1, 1, '2025-06-15', 1), (1, 2, '2025-06-15', 1), (2, 1, '2025-06-22', 1);\n",
    "\"\"\"\n",
    "\n",
    "try:\n",
    "    conn = psycopg2.connect(host=DB_HOST, dbname=DB_NAME, user=DB_USER, password=DB_USER_PWD)\n",
    "    cur = conn.cursor()\n",
    "    \n",
    "    print(\"Executando script DDL (criação de tabelas)...\")\n",
    "    cur.execute(DDL_SCRIPT)\n",
    "    print(\"DDL executado com sucesso.\")\n",
    "    \n",
    "    print(\"Executando script DML (inserção de dados)...\")\n",
    "    # Limpa as tabelas antes de inserir para garantir que o script seja idempotente\n",
    "    cur.execute(\"TRUNCATE TABLE agendamento, compra, pet, tutor, produto RESTART IDENTITY CASCADE;\")\n",
    "    cur.execute(DML_SCRIPT)\n",
    "    print(\"DML executado com sucesso.\")\n",
    "    \n",
    "    conn.commit()\n",
    "    print(\"Transação commitada.\")\n",
    "    \n",
    "except psycopg2.OperationalError as e:\n",
    "    print(f\"Erro de conexão: {e}\")\n",
    "    print(\"Verifique se os contêineres Docker estão em execução ('docker-compose up -d') e se o nome do host do banco de dados ('{DB_HOST}') está correto.\")\n",
    "except Exception as e:\n",
    "    print(f\"Ocorreu um erro: {e}\")\n",
    "finally:\n",
    "    if 'conn' in locals() and conn is not None:\n",
    "        cur.close()\n",
    "        conn.close()\n",
    "        print(\"Conexão fechada.\")"
   ]
  },
  {
   "cell_type": "markdown",
   "metadata": {},
   "source": [
    "## 3. Verificação\n",
    "\n",
    "Execute a célula abaixo para se conectar novamente e fazer uma consulta `SELECT` para verificar se os dados foram inseridos corretamente na tabela `agendamento`."
   ]
  },
  {
   "cell_type": "code",
   "execution_count": null,
   "metadata": {},
   "outputs": [],
   "source": [
    "try:\n",
    "    conn = psycopg2.connect(host=DB_HOST, dbname=DB_NAME, user=DB_USER, password=DB_USER_PWD)\n",
    "    cur = conn.cursor()\n",
    "    \n",
    "    cur.execute(\"SELECT * FROM agendamento;\")\n",
    "    rows = cur.fetchall()\n",
    "    \n",
    "    print(\"Agendamentos encontrados:\")\n",
    "    for row in rows:\n",
    "        print(row)\n",
    "        \n",
    "except Exception as e:\n",
    "    print(f\"Ocorreu um erro: {e}\")\n",
    "finally:\n",
    "    if 'conn' in locals() and conn is not None:\n",
    "        cur.close()\n",
    "        conn.close()"
   ]
  }
 ],
 "metadata": {
  "kernelspec": {
   "display_name": "Python 3 (ipykernel)",
   "language": "python",
   "name": "python3"
  },
  "language_info": {
   "codemirror_mode": {
    "name": "ipython",
    "version": 3
   },
   "file_extension": ".py",
   "mimetype": "text/x-python",
   "name": "python",
   "nbconvert_exporter": "python",
   "pygments_lexer": "ipython3",
   "version": "3.11.9"
  }
 },
 "nbformat": 4,
 "nbformat_minor": 4
}
