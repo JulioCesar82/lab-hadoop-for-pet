{
 "cells": [
  {
   "cell_type": "markdown",
   "metadata": {},
   "source": [
    "# Ex1 - MapReduce localfs"
   ]
  },
  {
   "cell_type": "markdown",
   "metadata": {},
   "source": [
    "## How many times the word \"truth\" and \"immediately\" appear in the \"resources/datasets/book.txt\"\n",
    "\n",
    "Try to print just the two words.\n",
    "<!-- \n",
    "!cat ./resources/datasets/book.txt | python resources/mappers/mapper-ex1.py | python resources/sort-and-shuffle.py \",\" | python resources/reducers/reducer5.py \",\"\n",
    "-->"
   ]
  },
  {
   "cell_type": "code",
   "execution_count": null,
   "metadata": {},
   "outputs": [],
   "source": []
  },
  {
   "cell_type": "markdown",
   "metadata": {},
   "source": [
    "## How many points of avg temperature were >= 29 <= 34 degrees in the file `resources/datasets/iot-temperature.csv`?\n",
    "<!--\n",
    "!cat ./resources/datasets/iot-temperature.csv | python resources/mappers/mapper2-ex1.py \n",
    "# | python resources/sort-and-shuffle.py \",\" | python resources/reducers/reducer5.py \",\"\n",
    "-->"
   ]
  },
  {
   "cell_type": "code",
   "execution_count": null,
   "metadata": {},
   "outputs": [],
   "source": []
  },
  {
   "cell_type": "markdown",
   "metadata": {},
   "source": [
    "## Challenge: What are the top5 when counting the words of `resources/datasets/book.txt`"
   ]
  },
  {
   "cell_type": "code",
   "execution_count": null,
   "metadata": {},
   "outputs": [],
   "source": []
  }
 ],
 "metadata": {
  "kernelspec": {
   "display_name": "Python 3",
   "language": "python",
   "name": "python3"
  },
  "language_info": {
   "codemirror_mode": {
    "name": "ipython",
    "version": 3
   },
   "file_extension": ".py",
   "mimetype": "text/x-python",
   "name": "python",
   "nbconvert_exporter": "python",
   "pygments_lexer": "ipython3",
   "version": "3.7.3"
  }
 },
 "nbformat": 4,
 "nbformat_minor": 2
}
