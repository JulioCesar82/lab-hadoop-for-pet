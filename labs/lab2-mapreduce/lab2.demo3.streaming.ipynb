{
 "cells": [
  {
   "cell_type": "markdown",
   "metadata": {},
   "source": [
    "# Demo 2 "
   ]
  },
  {
   "cell_type": "markdown",
   "metadata": {},
   "source": [
    "In this demo we will be using the [MovieLens Dataset](https://grouplens.org/datasets/movielens/). The dataset slicing options are:\n",
    "\n",
    "* **[Small](http://files.grouplens.org/datasets/movielens/ml-latest-small.zip):** 100,000 ratings and 3,600 tag applications applied to 9,000 movies by 600 users. Last updated 9/2018.\n",
    "* **[Full](http://files.grouplens.org/datasets/movielens/ml-latest.zip):** 27,000,000 ratings and 1,100,000 tag applications applied to 58,000 movies by 280,000 users. Last updated 9/2018.\n",
    "\n"
   ]
  },
  {
   "cell_type": "code",
   "execution_count": 1,
   "metadata": {},
   "outputs": [
    {
     "name": "stdout",
     "output_type": "stream",
     "text": [
      "ml-latest-small.zip 100%[===================>] 955.28K   903KB/s    in 1.1s    \n",
      "Archive:  ml-latest-small.zip\n",
      "   creating: ml-latest-small/\n",
      "  inflating: ml-latest-small/links.csv  \n",
      "  inflating: ml-latest-small/tags.csv  \n",
      "  inflating: ml-latest-small/ratings.csv  \n",
      "  inflating: ml-latest-small/README.txt  \n",
      "  inflating: ml-latest-small/movies.csv  \n"
     ]
    }
   ],
   "source": [
    "!wget http://files.grouplens.org/datasets/movielens/ml-latest-small.zip -q --show-progress\n",
    "!unzip ml-latest-small.zip\n",
    "!rm ml-latest-small.zip"
   ]
  },
  {
   "cell_type": "code",
   "execution_count": 2,
   "metadata": {},
   "outputs": [
    {
     "name": "stdout",
     "output_type": "stream",
     "text": [
      "env: DATASET_PATH=ml-latest-small\n"
     ]
    }
   ],
   "source": [
    "%env DATASET_PATH ml-latest-small"
   ]
  },
  {
   "cell_type": "code",
   "execution_count": 3,
   "metadata": {},
   "outputs": [
    {
     "name": "stdout",
     "output_type": "stream",
     "text": [
      "total 3.2M\n",
      "drwxr-xr-x 2 matheus matheus 4.0K Sep 26  2018 .\n",
      "drwxrwxr-x 5 matheus matheus 4.0K Jul 20 04:38 ..\n",
      "-rw-r--r-- 1 matheus matheus 194K Sep 26  2018 links.csv\n",
      "-rw-r--r-- 1 matheus matheus 483K Sep 26  2018 movies.csv\n",
      "-rw-r--r-- 1 matheus matheus 2.4M Sep 26  2018 ratings.csv\n",
      "-rw-r--r-- 1 matheus matheus 8.2K Sep 26  2018 README.txt\n",
      "-rw-r--r-- 1 matheus matheus 116K Sep 26  2018 tags.csv\n"
     ]
    }
   ],
   "source": [
    "!ls ${DATASET_PATH} -lha"
   ]
  },
  {
   "cell_type": "code",
   "execution_count": 4,
   "metadata": {},
   "outputs": [
    {
     "name": "stdout",
     "output_type": "stream",
     "text": [
      "Found 1 items\n",
      "drwxr-xr-x   - matheus supergroup          0 2019-07-20 04:36 /user\n"
     ]
    }
   ],
   "source": [
    "!hdfs dfs -ls /"
   ]
  },
  {
   "cell_type": "code",
   "execution_count": 18,
   "metadata": {},
   "outputs": [
    {
     "name": "stdout",
     "output_type": "stream",
     "text": [
      "mkdir: `/user': File exists\n",
      "mkdir: `/user/matheus': File exists\n",
      "mkdir: `/user/matheus/ml': File exists\n",
      "mkdir: `/user/matheus/mappers': File exists\n",
      "mkdir: `/user/matheus/reducers': File exists\n",
      "mkdir: `/user/matheus/datasets': File exists\n"
     ]
    }
   ],
   "source": [
    "!hdfs dfs -mkdir /user/\n",
    "!hdfs dfs -mkdir /user/matheus\n",
    "!hdfs dfs -mkdir /user/matheus/ml\n",
    "!hdfs dfs -mkdir /user/matheus/mappers\n",
    "!hdfs dfs -mkdir /user/matheus/reducers\n",
    "!hdfs dfs -mkdir /user/matheus/datasets\n",
    "!hdfs dfs -mkdir /user/matheus/outputs"
   ]
  },
  {
   "cell_type": "code",
   "execution_count": 6,
   "metadata": {},
   "outputs": [],
   "source": [
    "!hadoop fs -copyFromLocal ${DATASET_PATH}/* /user/matheus/ml"
   ]
  },
  {
   "cell_type": "code",
   "execution_count": 7,
   "metadata": {},
   "outputs": [
    {
     "name": "stdout",
     "output_type": "stream",
     "text": [
      "Found 5 items\n",
      "-rw-r--r--   1 matheus supergroup       8342 2019-07-20 04:39 /user/matheus/ml/README.txt\n",
      "-rw-r--r--   1 matheus supergroup     197979 2019-07-20 04:39 /user/matheus/ml/links.csv\n",
      "-rw-r--r--   1 matheus supergroup     494431 2019-07-20 04:39 /user/matheus/ml/movies.csv\n",
      "-rw-r--r--   1 matheus supergroup    2483723 2019-07-20 04:39 /user/matheus/ml/ratings.csv\n",
      "-rw-r--r--   1 matheus supergroup     118660 2019-07-20 04:39 /user/matheus/ml/tags.csv\n"
     ]
    }
   ],
   "source": [
    "!hdfs dfs -ls /user/matheus/ml"
   ]
  },
  {
   "cell_type": "code",
   "execution_count": 8,
   "metadata": {},
   "outputs": [],
   "source": [
    "!hadoop fs -copyFromLocal ./resources/mappers/* /user/matheus/mappers"
   ]
  },
  {
   "cell_type": "code",
   "execution_count": 9,
   "metadata": {},
   "outputs": [
    {
     "name": "stdout",
     "output_type": "stream",
     "text": [
      "Found 5 items\n",
      "-rw-r--r--   1 matheus supergroup        123 2019-07-20 04:39 /user/matheus/mappers/mapper1.py\n",
      "-rw-r--r--   1 matheus supergroup        343 2019-07-20 04:39 /user/matheus/mappers/mapper2.py\n",
      "-rw-r--r--   1 matheus supergroup        211 2019-07-20 04:39 /user/matheus/mappers/mapper3.py\n",
      "-rw-r--r--   1 matheus supergroup        227 2019-07-20 04:39 /user/matheus/mappers/mapper4.py\n",
      "-rw-r--r--   1 matheus supergroup        211 2019-07-20 04:39 /user/matheus/mappers/mapper5.py\n"
     ]
    }
   ],
   "source": [
    "!hdfs dfs -ls /user/matheus/mappers"
   ]
  },
  {
   "cell_type": "code",
   "execution_count": 10,
   "metadata": {},
   "outputs": [],
   "source": [
    "!hadoop fs -copyFromLocal ./resources/reducers/* /user/matheus/reducers"
   ]
  },
  {
   "cell_type": "code",
   "execution_count": 11,
   "metadata": {},
   "outputs": [
    {
     "name": "stdout",
     "output_type": "stream",
     "text": [
      "Found 4 items\n",
      "-rw-r--r--   1 matheus supergroup        612 2019-07-20 04:39 /user/matheus/reducers/reducer1.py\n",
      "-rw-r--r--   1 matheus supergroup        641 2019-07-20 04:39 /user/matheus/reducers/reducer2.py\n",
      "-rw-r--r--   1 matheus supergroup        663 2019-07-20 04:39 /user/matheus/reducers/reducer3.py\n",
      "-rw-r--r--   1 matheus supergroup        498 2019-07-20 04:39 /user/matheus/reducers/reducer4.py\n"
     ]
    }
   ],
   "source": [
    "!hdfs dfs -ls /user/matheus/reducers"
   ]
  },
  {
   "cell_type": "code",
   "execution_count": 12,
   "metadata": {},
   "outputs": [],
   "source": [
    "!hadoop fs -copyFromLocal ./resources/datasets/* /user/matheus/datasets"
   ]
  },
  {
   "cell_type": "code",
   "execution_count": 13,
   "metadata": {},
   "outputs": [
    {
     "name": "stdout",
     "output_type": "stream",
     "text": [
      "Found 4 items\n",
      "-rw-r--r--   1 matheus supergroup         92 2019-07-20 04:39 /user/matheus/datasets/animals.txt\n",
      "-rw-r--r--   1 matheus supergroup     692548 2019-07-20 04:39 /user/matheus/datasets/book.txt\n",
      "-rw-r--r--   1 matheus supergroup        819 2019-07-20 04:39 /user/matheus/datasets/futbr.csv\n",
      "-rw-r--r--   1 matheus supergroup    3589447 2019-07-20 04:39 /user/matheus/datasets/iot-temperature.csv\n"
     ]
    }
   ],
   "source": [
    "!hdfs dfs -ls /user/matheus/datasets"
   ]
  },
  {
   "cell_type": "code",
   "execution_count": 14,
   "metadata": {},
   "outputs": [
    {
     "name": "stdout",
     "output_type": "stream",
     "text": [
      "/home/matheus/local-home/.local/share/Trash/files/hadoop-3.5.1.2/share/hadoop/tools/sources/hadoop-streaming-3.1.2-test-sources.jar\n",
      "/home/matheus/local-home/.local/share/Trash/files/hadoop-3.5.1.2/share/hadoop/tools/sources/hadoop-streaming-3.1.2-sources.jar\n",
      "/home/matheus/local-home/.local/share/Trash/files/hadoop-3.5.1.2/share/hadoop/tools/lib/hadoop-streaming-3.1.2.jar\n",
      "/home/matheus/local-home/.local/share/Trash/files/hadoop-3.1.2/share/hadoop/tools/sources/hadoop-streaming-3.1.2-test-sources.jar\n",
      "/home/matheus/local-home/.local/share/Trash/files/hadoop-3.1.2/share/hadoop/tools/sources/hadoop-streaming-3.1.2-sources.jar\n",
      "/home/matheus/local-home/.local/share/Trash/files/hadoop-3.1.2/share/hadoop/tools/lib/hadoop-streaming-3.1.2.jar\n",
      "/home/matheus/local-home/.local/share/Trash/files/hadoop-3.2.1.2/share/hadoop/tools/sources/hadoop-streaming-3.1.2-test-sources.jar\n",
      "/home/matheus/local-home/.local/share/Trash/files/hadoop-3.2.1.2/share/hadoop/tools/sources/hadoop-streaming-3.1.2-sources.jar\n",
      "/home/matheus/local-home/.local/share/Trash/files/hadoop-3.2.1.2/share/hadoop/tools/lib/hadoop-streaming-3.1.2.jar\n",
      "/home/matheus/local-home/.local/share/Trash/files/hadoop-2.2.9.2/share/hadoop/tools/sources/hadoop-streaming-2.9.2-sources.jar\n",
      "/home/matheus/local-home/.local/share/Trash/files/hadoop-2.2.9.2/share/hadoop/tools/sources/hadoop-streaming-2.9.2-test-sources.jar\n",
      "/home/matheus/local-home/.local/share/Trash/files/hadoop-2.2.9.2/share/hadoop/tools/lib/hadoop-streaming-2.9.2.jar\n",
      "/home/matheus/local-home/.local/share/Trash/files/hadoop-2.5.9.2/share/hadoop/tools/sources/hadoop-streaming-2.9.2-sources.jar\n",
      "/home/matheus/local-home/.local/share/Trash/files/hadoop-2.5.9.2/share/hadoop/tools/sources/hadoop-streaming-2.9.2-test-sources.jar\n",
      "/home/matheus/local-home/.local/share/Trash/files/hadoop-2.5.9.2/share/hadoop/tools/lib/hadoop-streaming-2.9.2.jar\n",
      "/home/matheus/local-home/.local/share/Trash/files/hadoop-2.9.2/share/hadoop/tools/sources/hadoop-streaming-2.9.2-sources.jar\n",
      "/home/matheus/local-home/.local/share/Trash/files/hadoop-2.9.2/share/hadoop/tools/sources/hadoop-streaming-2.9.2-test-sources.jar\n",
      "/home/matheus/local-home/.local/share/Trash/files/hadoop-2.9.2/share/hadoop/tools/lib/hadoop-streaming-2.9.2.jar\n",
      "/home/matheus/local-home/.local/share/Trash/files/hadoop-3.4.1.2/share/hadoop/tools/sources/hadoop-streaming-3.1.2-test-sources.jar\n",
      "/home/matheus/local-home/.local/share/Trash/files/hadoop-3.4.1.2/share/hadoop/tools/sources/hadoop-streaming-3.1.2-sources.jar\n",
      "/home/matheus/local-home/.local/share/Trash/files/hadoop-3.4.1.2/share/hadoop/tools/lib/hadoop-streaming-3.1.2.jar\n",
      "/home/matheus/local-home/.local/share/Trash/files/hadoop-2.3.9.2/share/hadoop/tools/sources/hadoop-streaming-2.9.2-sources.jar\n",
      "/home/matheus/local-home/.local/share/Trash/files/hadoop-2.3.9.2/share/hadoop/tools/sources/hadoop-streaming-2.9.2-test-sources.jar\n",
      "/home/matheus/local-home/.local/share/Trash/files/hadoop-2.3.9.2/share/hadoop/tools/lib/hadoop-streaming-2.9.2.jar\n",
      "/home/matheus/local-home/.local/share/Trash/files/hadoop-3.3.1.2/share/hadoop/tools/sources/hadoop-streaming-3.1.2-test-sources.jar\n",
      "/home/matheus/local-home/.local/share/Trash/files/hadoop-3.3.1.2/share/hadoop/tools/sources/hadoop-streaming-3.1.2-sources.jar\n",
      "/home/matheus/local-home/.local/share/Trash/files/hadoop-3.3.1.2/share/hadoop/tools/lib/hadoop-streaming-3.1.2.jar\n",
      "/home/matheus/local-home/.local/share/Trash/files/hadoop-3.2.0/share/hadoop/tools/sources/hadoop-streaming-3.2.0-sources.jar\n",
      "/home/matheus/local-home/.local/share/Trash/files/hadoop-3.2.0/share/hadoop/tools/sources/hadoop-streaming-3.2.0-test-sources.jar\n",
      "/home/matheus/local-home/.local/share/Trash/files/hadoop-3.2.0/share/hadoop/tools/lib/hadoop-streaming-3.2.0.jar\n",
      "/home/matheus/local-home/.local/share/Trash/files/hadoop-2.4.9.2/share/hadoop/tools/sources/hadoop-streaming-2.9.2-sources.jar\n",
      "/home/matheus/local-home/.local/share/Trash/files/hadoop-2.4.9.2/share/hadoop/tools/sources/hadoop-streaming-2.9.2-test-sources.jar\n",
      "/home/matheus/local-home/.local/share/Trash/files/hadoop-2.4.9.2/share/hadoop/tools/lib/hadoop-streaming-2.9.2.jar\n",
      "/home/matheus/local-home/.local/share/Trash/files/hadoop-3.6.1.2/share/hadoop/tools/sources/hadoop-streaming-3.1.2-test-sources.jar\n",
      "/home/matheus/local-home/.local/share/Trash/files/hadoop-3.6.1.2/share/hadoop/tools/sources/hadoop-streaming-3.1.2-sources.jar\n",
      "/home/matheus/local-home/.local/share/Trash/files/hadoop-3.6.1.2/share/hadoop/tools/lib/hadoop-streaming-3.1.2.jar\n",
      "/home/matheus/local-home/backup/backup-formatacao/.local/share/Trash/files/hadoop-2.9.2/share/hadoop/tools/sources/hadoop-streaming-2.9.2-sources.jar\n",
      "/home/matheus/local-home/backup/backup-formatacao/.local/share/Trash/files/hadoop-2.9.2/share/hadoop/tools/sources/hadoop-streaming-2.9.2-test-sources.jar\n",
      "/home/matheus/local-home/backup/backup-formatacao/.local/share/Trash/files/hadoop-2.9.2/share/hadoop/tools/lib/hadoop-streaming-2.9.2.jar\n",
      "find: ‘/home/matheus/local-home/.dbus’: Permission denied\n",
      "/home/matheus/hadoop-2.9.2/share/hadoop/tools/sources/hadoop-streaming-2.9.2-test-sources.jar\n",
      "/home/matheus/hadoop-2.9.2/share/hadoop/tools/sources/hadoop-streaming-2.9.2-sources.jar\n",
      "/home/matheus/hadoop-2.9.2/share/hadoop/tools/lib/hadoop-streaming-2.9.2.jar\n"
     ]
    }
   ],
   "source": [
    "!find $HOME/ -name hadoop-streaming*.jar"
   ]
  },
  {
   "cell_type": "code",
   "execution_count": null,
   "metadata": {},
   "outputs": [
    {
     "name": "stdout",
     "output_type": "stream",
     "text": [
      "packageJobJar: [/tmp/hadoop-unjar3305056325606238635/] [] /tmp/streamjob106062894110311942.jar tmpDir=null\n",
      "19/07/20 04:45:57 INFO client.RMProxy: Connecting to ResourceManager at /0.0.0.0:8032\n",
      "19/07/20 04:45:57 INFO client.RMProxy: Connecting to ResourceManager at /0.0.0.0:8032\n",
      "19/07/20 04:45:58 INFO mapred.FileInputFormat: Total input files to process : 1\n",
      "19/07/20 04:45:58 INFO mapreduce.JobSubmitter: number of splits:2\n",
      "19/07/20 04:45:58 INFO Configuration.deprecation: yarn.resourcemanager.system-metrics-publisher.enabled is deprecated. Instead, use yarn.system-metrics-publisher.enabled\n",
      "19/07/20 04:45:58 INFO mapreduce.JobSubmitter: Submitting tokens for job: job_1563597362116_0004\n",
      "19/07/20 04:45:58 INFO impl.YarnClientImpl: Submitted application application_1563597362116_0004\n",
      "19/07/20 04:45:58 INFO mapreduce.Job: The url to track the job: http://13ac3b19d088:8088/proxy/application_1563597362116_0004/\n",
      "19/07/20 04:45:58 INFO mapreduce.Job: Running job: job_1563597362116_0004\n",
      "19/07/20 04:46:02 INFO mapreduce.Job: Job job_1563597362116_0004 running in uber mode : false\n",
      "19/07/20 04:46:02 INFO mapreduce.Job:  map 0% reduce 0%\n",
      "19/07/20 04:46:05 INFO mapreduce.Job: Task Id : attempt_1563597362116_0004_m_000000_0, Status : FAILED\n",
      "Error: java.lang.RuntimeException: PipeMapRed.waitOutputThreads(): subprocess failed with code 2\n",
      "\tat org.apache.hadoop.streaming.PipeMapRed.waitOutputThreads(PipeMapRed.java:325)\n",
      "\tat org.apache.hadoop.streaming.PipeMapRed.mapRedFinished(PipeMapRed.java:538)\n",
      "\tat org.apache.hadoop.streaming.PipeMapper.close(PipeMapper.java:130)\n",
      "\tat org.apache.hadoop.mapred.MapRunner.run(MapRunner.java:61)\n",
      "\tat org.apache.hadoop.streaming.PipeMapRunner.run(PipeMapRunner.java:34)\n",
      "\tat org.apache.hadoop.mapred.MapTask.runOldMapper(MapTask.java:459)\n",
      "\tat org.apache.hadoop.mapred.MapTask.run(MapTask.java:343)\n",
      "\tat org.apache.hadoop.mapred.YarnChild$2.run(YarnChild.java:177)\n",
      "\tat java.security.AccessController.doPrivileged(Native Method)\n",
      "\tat javax.security.auth.Subject.doAs(Subject.java:422)\n",
      "\tat org.apache.hadoop.security.UserGroupInformation.doAs(UserGroupInformation.java:1893)\n",
      "\tat org.apache.hadoop.mapred.YarnChild.main(YarnChild.java:171)\n",
      "\n",
      "19/07/20 04:46:06 INFO mapreduce.Job: Task Id : attempt_1563597362116_0004_m_000001_0, Status : FAILED\n",
      "Error: java.lang.RuntimeException: PipeMapRed.waitOutputThreads(): subprocess failed with code 2\n",
      "\tat org.apache.hadoop.streaming.PipeMapRed.waitOutputThreads(PipeMapRed.java:325)\n",
      "\tat org.apache.hadoop.streaming.PipeMapRed.mapRedFinished(PipeMapRed.java:538)\n",
      "\tat org.apache.hadoop.streaming.PipeMapper.close(PipeMapper.java:130)\n",
      "\tat org.apache.hadoop.mapred.MapRunner.run(MapRunner.java:61)\n",
      "\tat org.apache.hadoop.streaming.PipeMapRunner.run(PipeMapRunner.java:34)\n",
      "\tat org.apache.hadoop.mapred.MapTask.runOldMapper(MapTask.java:459)\n",
      "\tat org.apache.hadoop.mapred.MapTask.run(MapTask.java:343)\n",
      "\tat org.apache.hadoop.mapred.YarnChild$2.run(YarnChild.java:177)\n",
      "\tat java.security.AccessController.doPrivileged(Native Method)\n",
      "\tat javax.security.auth.Subject.doAs(Subject.java:422)\n",
      "\tat org.apache.hadoop.security.UserGroupInformation.doAs(UserGroupInformation.java:1893)\n",
      "\tat org.apache.hadoop.mapred.YarnChild.main(YarnChild.java:171)\n",
      "\n",
      "19/07/20 04:46:09 INFO mapreduce.Job: Task Id : attempt_1563597362116_0004_m_000000_1, Status : FAILED\n",
      "Error: java.lang.RuntimeException: PipeMapRed.waitOutputThreads(): subprocess failed with code 2\n",
      "\tat org.apache.hadoop.streaming.PipeMapRed.waitOutputThreads(PipeMapRed.java:325)\n",
      "\tat org.apache.hadoop.streaming.PipeMapRed.mapRedFinished(PipeMapRed.java:538)\n",
      "\tat org.apache.hadoop.streaming.PipeMapper.close(PipeMapper.java:130)\n",
      "\tat org.apache.hadoop.mapred.MapRunner.run(MapRunner.java:61)\n",
      "\tat org.apache.hadoop.streaming.PipeMapRunner.run(PipeMapRunner.java:34)\n",
      "\tat org.apache.hadoop.mapred.MapTask.runOldMapper(MapTask.java:459)\n",
      "\tat org.apache.hadoop.mapred.MapTask.run(MapTask.java:343)\n",
      "\tat org.apache.hadoop.mapred.YarnChild$2.run(YarnChild.java:177)\n",
      "\tat java.security.AccessController.doPrivileged(Native Method)\n",
      "\tat javax.security.auth.Subject.doAs(Subject.java:422)\n",
      "\tat org.apache.hadoop.security.UserGroupInformation.doAs(UserGroupInformation.java:1893)\n",
      "\tat org.apache.hadoop.mapred.YarnChild.main(YarnChild.java:171)\n",
      "\n",
      "19/07/20 04:46:10 INFO mapreduce.Job: Task Id : attempt_1563597362116_0004_m_000001_1, Status : FAILED\n",
      "Error: java.lang.RuntimeException: PipeMapRed.waitOutputThreads(): subprocess failed with code 2\n",
      "\tat org.apache.hadoop.streaming.PipeMapRed.waitOutputThreads(PipeMapRed.java:325)\n",
      "\tat org.apache.hadoop.streaming.PipeMapRed.mapRedFinished(PipeMapRed.java:538)\n",
      "\tat org.apache.hadoop.streaming.PipeMapper.close(PipeMapper.java:130)\n",
      "\tat org.apache.hadoop.mapred.MapRunner.run(MapRunner.java:61)\n",
      "\tat org.apache.hadoop.streaming.PipeMapRunner.run(PipeMapRunner.java:34)\n",
      "\tat org.apache.hadoop.mapred.MapTask.runOldMapper(MapTask.java:459)\n",
      "\tat org.apache.hadoop.mapred.MapTask.run(MapTask.java:343)\n",
      "\tat org.apache.hadoop.mapred.YarnChild$2.run(YarnChild.java:177)\n",
      "\tat java.security.AccessController.doPrivileged(Native Method)\n",
      "\tat javax.security.auth.Subject.doAs(Subject.java:422)\n",
      "\tat org.apache.hadoop.security.UserGroupInformation.doAs(UserGroupInformation.java:1893)\n",
      "\tat org.apache.hadoop.mapred.YarnChild.main(YarnChild.java:171)\n",
      "\n",
      "19/07/20 04:46:11 INFO mapreduce.Job: Task Id : attempt_1563597362116_0004_m_000000_2, Status : FAILED\n",
      "Error: java.lang.RuntimeException: PipeMapRed.waitOutputThreads(): subprocess failed with code 2\n",
      "\tat org.apache.hadoop.streaming.PipeMapRed.waitOutputThreads(PipeMapRed.java:325)\n",
      "\tat org.apache.hadoop.streaming.PipeMapRed.mapRedFinished(PipeMapRed.java:538)\n",
      "\tat org.apache.hadoop.streaming.PipeMapper.close(PipeMapper.java:130)\n",
      "\tat org.apache.hadoop.mapred.MapRunner.run(MapRunner.java:61)\n",
      "\tat org.apache.hadoop.streaming.PipeMapRunner.run(PipeMapRunner.java:34)\n",
      "\tat org.apache.hadoop.mapred.MapTask.runOldMapper(MapTask.java:459)\n",
      "\tat org.apache.hadoop.mapred.MapTask.run(MapTask.java:343)\n",
      "\tat org.apache.hadoop.mapred.YarnChild$2.run(YarnChild.java:177)\n",
      "\tat java.security.AccessController.doPrivileged(Native Method)\n",
      "\tat javax.security.auth.Subject.doAs(Subject.java:422)\n",
      "\tat org.apache.hadoop.security.UserGroupInformation.doAs(UserGroupInformation.java:1893)\n",
      "\tat org.apache.hadoop.mapred.YarnChild.main(YarnChild.java:171)\n",
      "\n"
     ]
    }
   ],
   "source": [
    "# !cat ./resources/datasets/animals.txt | python resources/mappers/mapper1.py | sort -k1,1 | python resources/reducers/reducer1.py\n",
    "\n",
    "!hadoop jar $HADOOP_HOME/share/hadoop/tools/lib/hadoop-streaming-2.9.2.jar \\\n",
    "-input   /user/matheus/datasets/animals.txt \\\n",
    "-output  /user/matheus/output/output8 \\\n",
    "-mapper  \"python $(pwd)/resources/mappers/mapper1.py\" \\\n",
    "-reducer \"python $(pwd)/resources/reducers/reducer1.py\"\n"
   ]
  },
  {
   "cell_type": "code",
   "execution_count": 28,
   "metadata": {},
   "outputs": [
    {
     "name": "stdout",
     "output_type": "stream",
     "text": [
      "Found 2 items\n",
      "-rw-r--r--   1 matheus supergroup          0 2019-07-20 04:44 /user/matheus/output/output8/_SUCCESS\n",
      "-rw-r--r--   1 matheus supergroup         63 2019-07-20 04:44 /user/matheus/output/output8/part-00000\n"
     ]
    }
   ],
   "source": [
    "!hadoop fs -ls /user/matheus/output/output8"
   ]
  },
  {
   "cell_type": "code",
   "execution_count": 30,
   "metadata": {},
   "outputs": [
    {
     "name": "stdout",
     "output_type": "stream",
     "text": [
      "elephant\t1\n",
      "giraffe\t2\n",
      "kangaroo\t2\n",
      "lion\t3\n",
      "monkey\t2\n",
      "wolf\t3\n",
      "zebra\t1\n"
     ]
    }
   ],
   "source": [
    "!hadoop fs -cat /user/matheus/output/output8/part-00000"
   ]
  },
  {
   "cell_type": "code",
   "execution_count": null,
   "metadata": {},
   "outputs": [],
   "source": []
  }
 ],
 "metadata": {
  "kernelspec": {
   "display_name": "Python 3",
   "language": "python",
   "name": "python3"
  },
  "language_info": {
   "codemirror_mode": {
    "name": "ipython",
    "version": 3
   },
   "file_extension": ".py",
   "mimetype": "text/x-python",
   "name": "python",
   "nbconvert_exporter": "python",
   "pygments_lexer": "ipython3",
   "version": "3.7.3"
  }
 },
 "nbformat": 4,
 "nbformat_minor": 2
}
