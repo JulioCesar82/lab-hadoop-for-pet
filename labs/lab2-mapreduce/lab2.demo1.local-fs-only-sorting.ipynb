{
 "cells": [
  {
   "cell_type": "markdown",
   "metadata": {},
   "source": [
    "# MapReduce - Demo 1"
   ]
  },
  {
   "cell_type": "markdown",
   "metadata": {},
   "source": [
    "## Example 1 - List of words\n",
    "\n",
    "Please check the `resources/` folder"
   ]
  },
  {
   "cell_type": "code",
   "execution_count": 2,
   "metadata": {},
   "outputs": [
    {
     "name": "stdout",
     "output_type": "stream",
     "text": [
      "wolf\n",
      "monkey\n",
      "giraffe\n",
      "elephant\n",
      "kangaroo\n",
      "lion\n",
      "giraffe\n",
      "wolf\n",
      "kangaroo\n",
      "wolf\n",
      "monkey\n",
      "lion\n",
      "lion\n",
      "zebra"
     ]
    }
   ],
   "source": [
    "!cat ./resources/datasets/animals.txt "
   ]
  },
  {
   "cell_type": "markdown",
   "metadata": {},
   "source": [
    "### mapper1.py\n",
    "\n",
    "`mapper1.py` maps each record to a value `1`. "
   ]
  },
  {
   "cell_type": "code",
   "execution_count": 8,
   "metadata": {},
   "outputs": [],
   "source": [
    "%load resources/mappers/mapper1.py"
   ]
  },
  {
   "cell_type": "code",
   "execution_count": 3,
   "metadata": {},
   "outputs": [
    {
     "name": "stdout",
     "output_type": "stream",
     "text": [
      "wolf\t1\n",
      "monkey\t1\n",
      "giraffe\t1\n",
      "elephant\t1\n",
      "kangaroo\t1\n",
      "lion\t1\n",
      "giraffe\t1\n",
      "wolf\t1\n",
      "kangaroo\t1\n",
      "wolf\t1\n",
      "monkey\t1\n",
      "lion\t1\n",
      "lion\t1\n",
      "zebra\t1\n"
     ]
    }
   ],
   "source": [
    "!cat ./resources/datasets/animals.txt | python resources/mappers/mapper1.py"
   ]
  },
  {
   "cell_type": "markdown",
   "metadata": {},
   "source": [
    "### reducer1.py\n",
    "\n",
    "`reducer1.py` sums each value of a key"
   ]
  },
  {
   "cell_type": "code",
   "execution_count": 3,
   "metadata": {},
   "outputs": [
    {
     "name": "stdout",
     "output_type": "stream",
     "text": [
      "wolf\t1\n",
      "monkey\t1\n",
      "giraffe\t1\n",
      "elephant\t1\n",
      "kangaroo\t1\n",
      "lion\t1\n",
      "giraffe\t1\n",
      "wolf\t1\n",
      "kangaroo\t1\n",
      "wolf\t1\n",
      "monkey\t1\n",
      "lion\t2\n",
      "zebra\t1\n"
     ]
    }
   ],
   "source": [
    "!cat ./resources/datasets/animals.txt | python resources/mappers/mapper1.py | python resources/reducers/reducer1.py"
   ]
  },
  {
   "cell_type": "markdown",
   "metadata": {},
   "source": [
    "Simulating the **sort and shuffle**: `sort -k1,1`."
   ]
  },
  {
   "cell_type": "code",
   "execution_count": 4,
   "metadata": {},
   "outputs": [
    {
     "name": "stdout",
     "output_type": "stream",
     "text": [
      "elephant\t1\n",
      "giraffe\t1\n",
      "giraffe\t1\n",
      "kangaroo\t1\n",
      "kangaroo\t1\n",
      "lion\t1\n",
      "lion\t1\n",
      "lion\t1\n",
      "monkey\t1\n",
      "monkey\t1\n",
      "wolf\t1\n",
      "wolf\t1\n",
      "wolf\t1\n",
      "zebra\t1\n"
     ]
    }
   ],
   "source": [
    "!cat ./resources/datasets/animals.txt | python resources/mappers/mapper1.py | sort -k1,1 "
   ]
  },
  {
   "cell_type": "code",
   "execution_count": 5,
   "metadata": {},
   "outputs": [
    {
     "name": "stdout",
     "output_type": "stream",
     "text": [
      "elephant\t1\n",
      "giraffe\t2\n",
      "kangaroo\t2\n",
      "lion\t3\n",
      "monkey\t2\n",
      "wolf\t3\n",
      "zebra\t1\n"
     ]
    }
   ],
   "source": [
    "!cat ./resources/datasets/animals.txt | python resources/mappers/mapper1.py | sort -k1,1 | python resources/reducers/reducer1.py"
   ]
  },
  {
   "cell_type": "markdown",
   "metadata": {},
   "source": [
    "## Example 2 - Counting words of a book\n",
    "\n",
    "Finde more books here: https://www.gutenberg.org/browse/scores/top"
   ]
  },
  {
   "cell_type": "code",
   "execution_count": 6,
   "metadata": {},
   "outputs": [
    {
     "name": "stdout",
     "output_type": "stream",
     "text": [
      "The Project Gutenberg EBook of Pride and Prejudice, by Jane Austen\n",
      "\n",
      "This eBook is for the use of anyone anywhere at no cost and with\n",
      "almost no restrictions whatsoever.  You may copy it, give it away or\n",
      "re-use it under the terms of the Project Gutenberg License included\n",
      "with this eBook or online at www.gutenberg.org\n",
      "\n",
      "\n",
      "Title: Pride and Prejudice\n",
      "\n"
     ]
    }
   ],
   "source": [
    "!head ./resources/datasets/book.txt"
   ]
  },
  {
   "cell_type": "markdown",
   "metadata": {},
   "source": [
    "### mapper2.py\n",
    "`mapper2.py` splits each line by empty space and adds value `1` to each word."
   ]
  },
  {
   "cell_type": "code",
   "execution_count": 7,
   "metadata": {},
   "outputs": [
    {
     "name": "stdout",
     "output_type": "stream",
     "text": [
      "Project\t1\n",
      "Gutenberg\t1\n",
      "EBook\t1\n",
      "of\t1\n",
      "Pride\t1\n",
      "and\t1\n",
      "Prejudice,\t1\n",
      "by\t1\n",
      "Jane\t1\n",
      "Austen\t1\n"
     ]
    }
   ],
   "source": [
    "!cat ./resources/datasets/book.txt | python resources/mappers/mapper2.py | tail"
   ]
  },
  {
   "cell_type": "code",
   "execution_count": 6,
   "metadata": {},
   "outputs": [
    {
     "name": "stdout",
     "output_type": "stream",
     "text": [
      "yours,\t2\n",
      "yours,”\t2\n",
      "yours.\t3\n",
      "yours.”\t3\n",
      "“Yours\t1\n",
      "“Yours,\t2\n",
      "Yours,\t2\n",
      "yourself\t28\n",
      "yourself,\t9\n",
      "yourself,”\t2\n",
      "yourself;\t1\n",
      "yourself?\t1\n",
      "yourself.\t4\n",
      "yourself.”\t4\n",
      "yourself--and\t1\n",
      "yourselves\t1\n",
      "yourselves?\t1\n",
      "youth\t7\n",
      "youth,\t2\n",
      "youths\t1\n"
     ]
    }
   ],
   "source": [
    "!cat ./resources/datasets/book.txt | python resources/mappers/mapper2.py | sort -k1,1 | python resources/reducers/reducer1.py | tail -20"
   ]
  },
  {
   "cell_type": "markdown",
   "metadata": {},
   "source": [
    "### Question:\n",
    "How can you remove stop words and invalid chars?"
   ]
  },
  {
   "cell_type": "code",
   "execution_count": null,
   "metadata": {},
   "outputs": [],
   "source": []
  },
  {
   "cell_type": "markdown",
   "metadata": {},
   "source": [
    "## Example 3 - CSV Table"
   ]
  },
  {
   "cell_type": "code",
   "execution_count": 7,
   "metadata": {},
   "outputs": [
    {
     "name": "stdout",
     "output_type": "stream",
     "text": [
      "ano,campeonato brasileiro,copa do brasil\n",
      "1989,Vasco da Gama,Grêmio\n",
      "1990,Corinthians,Flamengo\n",
      "1991,Criciúma,Corinthians\n",
      "1992,Flamengo,Internacional\n",
      "1993,Palmeiras,Cruzeiro\n",
      "1994,Palmeiras,Grêmio\n",
      "1995,Botafogo,Corinthians\n",
      "1996,Grêmio,Cruzeiro\n",
      "1997,Vasco da Gama,Grêmio\n",
      "1998,Corinthians,Palmeiras\n",
      "1999,Corinthians,Juventude\n",
      "2000,Vasco da Gama,Cruzeiro\n",
      "2001,Atlético Paranaense,Grêmio\n",
      "2002,Santos,Corinthians\n",
      "2003,Cruzeiro,Cruzeiro\n",
      "2004,Santos,Santo André\n",
      "2005,Corinthians,Paulista\n",
      "2006,São Paulo,Flamengo\n",
      "2007,São Paulo,Fluminense\n",
      "2008,São Paulo,Sport\n",
      "2009,Flamengo,Corinthians\n",
      "2010,Fluminense,Santos\n",
      "2011,Corinthians,Vasco da Gama\n",
      "2012,Fluminense,Palmeiras\n",
      "2013,Cruzeiro,Flamengo\n",
      "2014,Cruzeiro,Atlético Mineiro\n",
      "2015,Corinthians,Palmeiras\n",
      "2016,Palmeiras,Grêmio\n",
      "2017,Corinthians,Cruzeiro\n",
      "2018,Palmeiras,Cruzeiro"
     ]
    }
   ],
   "source": [
    "!cat ./resources/datasets/futbr.csv "
   ]
  },
  {
   "cell_type": "markdown",
   "metadata": {},
   "source": [
    "### mapper3.py\n",
    "\n",
    "`mapper2.py` splits lines by ',' and returns the second instance."
   ]
  },
  {
   "cell_type": "code",
   "execution_count": 10,
   "metadata": {},
   "outputs": [
    {
     "name": "stdout",
     "output_type": "stream",
     "text": [
      "Vasco da Gama,1\n",
      "Corinthians,1\n",
      "Criciúma,1\n",
      "Flamengo,1\n",
      "Palmeiras,1\n",
      "Palmeiras,1\n",
      "Botafogo,1\n",
      "Grêmio,1\n",
      "Vasco da Gama,1\n",
      "Corinthians,1\n",
      "Corinthians,1\n",
      "Vasco da Gama,1\n",
      "Atlético Paranaense,1\n",
      "Santos,1\n",
      "Cruzeiro,1\n",
      "Santos,1\n",
      "Corinthians,1\n",
      "São Paulo,1\n",
      "São Paulo,1\n",
      "São Paulo,1\n",
      "Flamengo,1\n",
      "Fluminense,1\n",
      "Corinthians,1\n",
      "Fluminense,1\n",
      "Cruzeiro,1\n",
      "Cruzeiro,1\n",
      "Corinthians,1\n",
      "Palmeiras,1\n",
      "Corinthians,1\n",
      "Palmeiras,1\n"
     ]
    }
   ],
   "source": [
    "!cat ./resources/datasets/futbr.csv | python resources/mappers/mapper3.py"
   ]
  },
  {
   "cell_type": "markdown",
   "metadata": {},
   "source": [
    "### reducer2.py"
   ]
  },
  {
   "cell_type": "code",
   "execution_count": 13,
   "metadata": {},
   "outputs": [
    {
     "name": "stdout",
     "output_type": "stream",
     "text": [
      "Traceback (most recent call last):\n",
      "  File \"resources/reducers/reducer2.py\", line 13, in <module>\n",
      "    key,value = line.split(sys.argv[1])\n",
      "ValueError: not enough values to unpack (expected 2, got 1)\n"
     ]
    }
   ],
   "source": [
    "!cat ./resources/datasets/futbr.csv | python resources/mappers/mapper3.py | sort -k1,1 | python resources/reducers/reducer2.py '.'"
   ]
  },
  {
   "cell_type": "code",
   "execution_count": 14,
   "metadata": {},
   "outputs": [
    {
     "name": "stdout",
     "output_type": "stream",
     "text": [
      "Atlético Paranaense,1\n",
      "Botafogo,1\n",
      "Corinthians,7\n",
      "Criciúma,1\n",
      "Cruzeiro,3\n",
      "Flamengo,2\n",
      "Fluminense,2\n",
      "Grêmio,1\n",
      "Palmeiras,4\n",
      "Santos,2\n",
      "São Paulo,3\n",
      "Vasco da Gama,3\n"
     ]
    }
   ],
   "source": [
    "!cat ./resources/datasets/futbr.csv | python resources/mappers/mapper3.py | sort -k1,1 | python resources/reducers/reducer2.py ','"
   ]
  },
  {
   "cell_type": "markdown",
   "metadata": {},
   "source": [
    "## Example 4 - IoT Log"
   ]
  },
  {
   "cell_type": "markdown",
   "metadata": {},
   "source": [
    "### reducer3.py"
   ]
  },
  {
   "cell_type": "code",
   "execution_count": 15,
   "metadata": {},
   "outputs": [
    {
     "name": "stdout",
     "output_type": "stream",
     "text": [
      "Corinthians,7\n",
      "Criciúma,1\n",
      "Cruzeiro,3\n",
      "Flamengo,2\n",
      "Fluminense,2\n",
      "Grêmio,1\n",
      "Palmeiras,4\n",
      "Santos,2\n",
      "São Paulo,3\n",
      "Vasco da Gama,3\n"
     ]
    }
   ],
   "source": [
    "!cat ./resources/datasets/futbr.csv | python resources/mappers/mapper3.py | sort -k1,1 | python resources/reducers/reducer2.py ',' | tail"
   ]
  },
  {
   "cell_type": "code",
   "execution_count": 16,
   "metadata": {},
   "outputs": [
    {
     "name": "stdout",
     "output_type": "stream",
     "text": [
      "37.1,16\n",
      "37.2,13\n",
      "37.3,26\n",
      "37.4,76\n",
      "37.5,161\n",
      "37.6,97\n",
      "37.7,128\n",
      "37.8,68\n",
      "37.9,53\n",
      "38.0,21\n"
     ]
    }
   ],
   "source": [
    "!cat ./resources/datasets/iot-temperature.csv | python resources/mappers/mapper3.py | sort -k1,1 | python resources/reducers/reducer2.py ',' | tail"
   ]
  },
  {
   "cell_type": "code",
   "execution_count": 17,
   "metadata": {},
   "outputs": [
    {
     "name": "stdout",
     "output_type": "stream",
     "text": [
      "37,16\n",
      "37,13\n",
      "37,26\n",
      "37,76\n",
      "38,161\n",
      "38,97\n",
      "38,128\n",
      "38,68\n",
      "38,53\n",
      "38,21\n"
     ]
    }
   ],
   "source": [
    "!cat ./resources/datasets/iot-temperature.csv | python resources/mappers/mapper3.py | sort -k1,1 | python resources/reducers/reducer3.py ','  | tail"
   ]
  },
  {
   "cell_type": "code",
   "execution_count": 18,
   "metadata": {},
   "outputs": [
    {
     "name": "stdout",
     "output_type": "stream",
     "text": [
      "total,21.6\n",
      "total,21.6\n",
      "total,21.6\n",
      "total,21.6\n",
      "total,21.6\n",
      "total,21.7\n",
      "total,21.7\n",
      "total,21.7\n",
      "total,21.7\n",
      "total,21.7\n"
     ]
    }
   ],
   "source": [
    "!cat ./resources/datasets/iot-temperature.csv | python resources/mappers/mapper5.py | tail"
   ]
  },
  {
   "cell_type": "code",
   "execution_count": 19,
   "metadata": {},
   "outputs": [
    {
     "name": "stdout",
     "output_type": "stream",
     "text": [
      "len,68876\n",
      "sum,1751648.8999999953\n",
      "avg,25.431919681746837\n"
     ]
    }
   ],
   "source": [
    "!cat ./resources/datasets/iot-temperature.csv | python resources/mappers/mapper5.py | sort -k1,1 | python resources/reducers/reducer4.py ',' "
   ]
  },
  {
   "cell_type": "code",
   "execution_count": null,
   "metadata": {},
   "outputs": [],
   "source": []
  }
 ],
 "metadata": {
  "kernelspec": {
   "display_name": "Python 3",
   "language": "python",
   "name": "python3"
  },
  "language_info": {
   "codemirror_mode": {
    "name": "ipython",
    "version": 3
   },
   "file_extension": ".py",
   "mimetype": "text/x-python",
   "name": "python",
   "nbconvert_exporter": "python",
   "pygments_lexer": "ipython3",
   "version": "3.7.3"
  }
 },
 "nbformat": 4,
 "nbformat_minor": 2
}
