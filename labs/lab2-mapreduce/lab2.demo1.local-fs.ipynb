{
 "cells": [
  {
   "cell_type": "markdown",
   "metadata": {},
   "source": [
    "## MapReduce - Demo 1"
   ]
  },
  {
   "cell_type": "markdown",
   "metadata": {},
   "source": [
    "## Example 1 - List of words\n",
    "\n",
    "Please check the `/resources/demo1` folder"
   ]
  },
  {
   "cell_type": "code",
   "execution_count": null,
   "metadata": {},
   "outputs": [],
   "source": [
    "!cat ./resources/datasets/animals.txt "
   ]
  },
  {
   "cell_type": "markdown",
   "metadata": {},
   "source": [
    "### mapper1.py\n",
    "\n",
    "`mapper1.py` maps each record to a value `1`. "
   ]
  },
  {
   "cell_type": "code",
   "execution_count": null,
   "metadata": {},
   "outputs": [],
   "source": [
    "!cat ./resources/datasets/animals.txt | python resources/mappers/mapper1.py"
   ]
  },
  {
   "cell_type": "markdown",
   "metadata": {},
   "source": [
    "### reducer1.py\n",
    "\n",
    "`reducer1.py` sums each value of a key"
   ]
  },
  {
   "cell_type": "code",
   "execution_count": null,
   "metadata": {},
   "outputs": [],
   "source": [
    "!cat ./resources/datasets/animals.txt | python resources/mappers/mapper1.py | python resources/reducers/reducer1.py"
   ]
  },
  {
   "cell_type": "markdown",
   "metadata": {},
   "source": [
    "Simulating the **sort and shuffle**: `sort -k1,1`."
   ]
  },
  {
   "cell_type": "code",
   "execution_count": 29,
   "metadata": {},
   "outputs": [
    {
     "name": "stdout",
     "output_type": "stream",
     "text": [
      "elephant\t1\n",
      "giraffe\t1\n",
      "giraffe\t1\n",
      "kangaroo\t1\n",
      "kangaroo\t1\n",
      "lion\t1\n",
      "lion\t1\n",
      "lion\t1\n",
      "monkey\t1\n",
      "monkey\t1\n",
      "wolf\t1\n",
      "wolf\t1\n",
      "wolf\t1\n",
      "zebra\t1\n"
     ]
    }
   ],
   "source": [
    "!cat ./resources/datasets/animals.txt | python resources/mappers/mapper1.py | sort -k1,1 "
   ]
  },
  {
   "cell_type": "code",
   "execution_count": 31,
   "metadata": {},
   "outputs": [
    {
     "name": "stdout",
     "output_type": "stream",
     "text": [
      "elephant\t1\n",
      "giraffe\t2\n",
      "kangaroo\t2\n",
      "lion\t3\n",
      "monkey\t2\n",
      "wolf\t3\n",
      "zebra\t1\n"
     ]
    }
   ],
   "source": [
    "!cat ./resources/datasets/animals.txt | python resources/mappers/mapper1.py | sort -k1,1 | python resources/reducers/reducer1.py"
   ]
  },
  {
   "cell_type": "code",
   "execution_count": 32,
   "metadata": {},
   "outputs": [
    {
     "name": "stdout",
     "output_type": "stream",
     "text": [
      "elephant\t1\n",
      "giraffe\t1\t1\n",
      "kangaroo\t1\t1\n",
      "lion\t1\t1\t1\n",
      "monkey\t1\t1\n",
      "wolf\t1\t1\t1\n",
      "zebra\t1\n"
     ]
    }
   ],
   "source": [
    "!cat ./resources/datasets/animals.txt | python resources/mappers/mapper1.py | python resources/sort-and-shuffle.py"
   ]
  },
  {
   "cell_type": "markdown",
   "metadata": {},
   "source": [
    "## Example 2 - Counting words of a book\n",
    "\n",
    "Finde more books here: https://www.gutenberg.org/browse/scores/top"
   ]
  },
  {
   "cell_type": "code",
   "execution_count": null,
   "metadata": {},
   "outputs": [],
   "source": [
    "!head ./resources/datasets/book.txt"
   ]
  },
  {
   "cell_type": "markdown",
   "metadata": {},
   "source": [
    "### mapper2.py\n",
    "`mapper2.py` splits each line by empty space and adds value `1` to each word."
   ]
  },
  {
   "cell_type": "code",
   "execution_count": null,
   "metadata": {},
   "outputs": [],
   "source": [
    "!cat ./resources/datasets/book.txt | python resources/mappers/mapper2.py | tail"
   ]
  },
  {
   "cell_type": "code",
   "execution_count": null,
   "metadata": {},
   "outputs": [],
   "source": [
    "!cat ./resources/datasets/book.txt | python resources/mappers/mapper2.py | sort -k1,1 | python resources/reducers/reducer1.py | tail -20"
   ]
  },
  {
   "cell_type": "markdown",
   "metadata": {},
   "source": [
    "### Question:\n",
    "How can you remove stop words and invalid chars?"
   ]
  },
  {
   "cell_type": "code",
   "execution_count": null,
   "metadata": {},
   "outputs": [],
   "source": []
  },
  {
   "cell_type": "markdown",
   "metadata": {},
   "source": [
    "## Example 3 - CSV Table"
   ]
  },
  {
   "cell_type": "code",
   "execution_count": null,
   "metadata": {},
   "outputs": [],
   "source": [
    "!cat ./resources/datasets/futbr.csv "
   ]
  },
  {
   "cell_type": "markdown",
   "metadata": {},
   "source": [
    "### mapper3.py\n",
    "\n",
    "`mapper2.py` splits lines by ',' and returns the second instance."
   ]
  },
  {
   "cell_type": "code",
   "execution_count": null,
   "metadata": {},
   "outputs": [],
   "source": [
    "!cat ./resources/datasets/futbr.csv | python resources/mappers/mapper1.py"
   ]
  },
  {
   "cell_type": "code",
   "execution_count": null,
   "metadata": {},
   "outputs": [],
   "source": [
    "!cat ./resources/datasets/futbr.csv | python resources/mappers/mapper3.py"
   ]
  },
  {
   "cell_type": "markdown",
   "metadata": {},
   "source": [
    "### reducer2.py"
   ]
  },
  {
   "cell_type": "code",
   "execution_count": null,
   "metadata": {},
   "outputs": [],
   "source": [
    "!cat ./resources/datasets/futbr.csv | python resources/mappers/mapper3.py | sort -k1,1 | python resources/reducers/reducer2.py '.'"
   ]
  },
  {
   "cell_type": "code",
   "execution_count": null,
   "metadata": {},
   "outputs": [],
   "source": [
    "!cat ./resources/datasets/futbr.csv | python resources/mappers/mapper3.py | sort -k1,1 | python resources/reducers/reducer2.py ','"
   ]
  },
  {
   "cell_type": "markdown",
   "metadata": {},
   "source": [
    "## Example 4 - IoT Log"
   ]
  },
  {
   "cell_type": "markdown",
   "metadata": {},
   "source": [
    "### reducer3.py"
   ]
  },
  {
   "cell_type": "code",
   "execution_count": null,
   "metadata": {},
   "outputs": [],
   "source": [
    "!cat ./resources/datasets/futbr.csv | python resources/mappers/mapper3.py | sort -k1,1 | python resources/reducers/reducer2.py ',' | tail"
   ]
  },
  {
   "cell_type": "code",
   "execution_count": null,
   "metadata": {},
   "outputs": [],
   "source": [
    "!cat ./resources/datasets/iot-temperature.csv | python resources/mappers/mapper3.py | sort -k1,1 | python resources/reducers/reducer2.py ',' | tail"
   ]
  },
  {
   "cell_type": "code",
   "execution_count": null,
   "metadata": {},
   "outputs": [],
   "source": [
    "!cat ./resources/datasets/iot-temperature.csv | python resources/mappers/mapper3.py | sort -k1,1 | python resources/reducers/reducer3.py ','  | tail"
   ]
  },
  {
   "cell_type": "code",
   "execution_count": null,
   "metadata": {},
   "outputs": [],
   "source": [
    "!cat ./resources/datasets/iot-temperature.csv | python resources/mappers/mapper5.py | tail"
   ]
  },
  {
   "cell_type": "code",
   "execution_count": null,
   "metadata": {},
   "outputs": [],
   "source": [
    "!cat ./resources/datasets/iot-temperature.csv | python resources/mappers/mapper5.py | sort -k1,1 | python resources/reducers/reducer4.py ',' "
   ]
  },
  {
   "cell_type": "code",
   "execution_count": null,
   "metadata": {},
   "outputs": [],
   "source": []
  }
 ],
 "metadata": {
  "kernelspec": {
   "display_name": "Python 3",
   "language": "python",
   "name": "python3"
  },
  "language_info": {
   "codemirror_mode": {
    "name": "ipython",
    "version": 3
   },
   "file_extension": ".py",
   "mimetype": "text/x-python",
   "name": "python",
   "nbconvert_exporter": "python",
   "pygments_lexer": "ipython3",
   "version": "3.7.3"
  }
 },
 "nbformat": 4,
 "nbformat_minor": 2
}
