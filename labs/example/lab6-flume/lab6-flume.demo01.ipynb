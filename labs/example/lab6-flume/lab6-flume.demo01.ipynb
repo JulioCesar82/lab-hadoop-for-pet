{
 "cells": [
  {
   "cell_type": "markdown",
   "metadata": {},
   "source": [
    "# Configurando o agent, source, channel e sink\n",
    "\n",
    "**Agent**: Apenas um agente chamado *a1*\n",
    "\n",
    "**Source**: Dados gerados na porta 44444\n",
    "\n",
    "**Channel**: Memória\n",
    "\n",
    "**Sink**: Registra os dados no console"
   ]
  },
  {
   "cell_type": "code",
   "execution_count": null,
   "metadata": {},
   "outputs": [],
   "source": [
    "!cat /home/jovyan/labs/lab6-flume/flumeAgent.conf"
   ]
  },
  {
   "cell_type": "markdown",
   "metadata": {},
   "source": [
    "# Abrir um terminal e iniciar o FlumeAgent\n",
    "\n",
    "``` bash\n",
    "flume-ng agent --conf conf --conf-file labs/lab6-flume/flumeAgent.conf --name a1 -Dflume.looger=INFO,console\n",
    "``` "
   ]
  },
  {
   "cell_type": "markdown",
   "metadata": {},
   "source": [
    "# Abrir um novo terminal (deixe os dois terminais visíveis) e digitar\n",
    "\n",
    "\n",
    "```bash\n",
    "telnet localhost 44444\n",
    "```\n",
    "\n",
    "Após estabelecer a conexão com o telnet, digite a frase: \"Hello flume!!\".\n",
    "\n",
    "Verifique o que acontece no primeiro terminal aberto.\n"
   ]
  },
  {
   "cell_type": "code",
   "execution_count": null,
   "metadata": {},
   "outputs": [],
   "source": []
  }
 ],
 "metadata": {
  "kernelspec": {
   "display_name": "Python 3",
   "language": "python",
   "name": "python3"
  },
  "language_info": {
   "codemirror_mode": {
    "name": "ipython",
    "version": 3
   },
   "file_extension": ".py",
   "mimetype": "text/x-python",
   "name": "python",
   "nbconvert_exporter": "python",
   "pygments_lexer": "ipython3",
   "version": "3.7.3"
  }
 },
 "nbformat": 4,
 "nbformat_minor": 2
}
