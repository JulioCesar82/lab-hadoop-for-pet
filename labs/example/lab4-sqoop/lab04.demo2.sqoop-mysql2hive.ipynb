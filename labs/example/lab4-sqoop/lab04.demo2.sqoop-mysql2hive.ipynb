{
 "cells": [
  {
   "cell_type": "markdown",
   "metadata": {},
   "source": [
    "# Introduction"
   ]
  },
  {
   "cell_type": "markdown",
   "metadata": {},
   "source": [
    "In this lecture we will use the MovieLens dataset containing 100k movie ratings.\n",
    "\n",
    "MovieLens site: https://grouplens.org/datasets/movielens/\n",
    "\n",
    "100k dataset: http://files.grouplens.org/datasets/movielens/ml-100k.zip\n"
   ]
  },
  {
   "cell_type": "markdown",
   "metadata": {},
   "source": [
    "# Creating a database in Mysql"
   ]
  },
  {
   "cell_type": "code",
   "execution_count": null,
   "metadata": {},
   "outputs": [],
   "source": [
    "#Verifying created databases\n",
    "!mysql -e \"SHOW DATABASES;\""
   ]
  },
  {
   "cell_type": "code",
   "execution_count": null,
   "metadata": {},
   "outputs": [],
   "source": [
    "#Creating a database\n",
    "!mysql -e \"CREATE DATABASE IF NOT EXISTS movielens;\"\n",
    "!mysql -e \"SHOW DATABASES;\""
   ]
  },
  {
   "cell_type": "markdown",
   "metadata": {},
   "source": [
    "# Inserting data"
   ]
  },
  {
   "cell_type": "code",
   "execution_count": null,
   "metadata": {},
   "outputs": [],
   "source": [
    "#Adjusting the data format and importing the data\n",
    "!mysql -e \"SET NAMES 'utf8';       \\\n",
    "           SET CHARACTER SET utf8; \\\n",
    "           USE movielens;          \\\n",
    "           SOURCE resources/movielens.sql;\""
   ]
  },
  {
   "cell_type": "code",
   "execution_count": null,
   "metadata": {},
   "outputs": [],
   "source": [
    "!mysql -e \"USE movielens; \\\n",
    "           SHOW TABLES\";"
   ]
  },
  {
   "cell_type": "code",
   "execution_count": null,
   "metadata": {},
   "outputs": [],
   "source": [
    "!mysql -e \"USE movielens; \\\n",
    "           SELECT * FROM movies LIMIT 10\";"
   ]
  },
  {
   "cell_type": "code",
   "execution_count": null,
   "metadata": {},
   "outputs": [],
   "source": [
    "!mysql -e \"USE movielens; \\\n",
    "           DESCRIBE ratings\";"
   ]
  },
  {
   "cell_type": "code",
   "execution_count": null,
   "metadata": {},
   "outputs": [],
   "source": [
    "#Find the top rated movie using mysql. Is this faster enough for you?\n",
    "!mysql -e \"USE movielens;                                                  \\\n",
    "           SELECT movies.title, COUNT(ratings.movie_id) as ratingCount        \\\n",
    "           FROM movies INNER JOIN ratings ON movies.id = ratings.movie_id  \\\n",
    "           GROUP BY movies.title                                           \\\n",
    "           ORDER BY ratingCount DESC;\""
   ]
  },
  {
   "cell_type": "markdown",
   "metadata": {},
   "source": [
    "# TO DO: Importing data to Hive using Sqoop"
   ]
  },
  {
   "cell_type": "code",
   "execution_count": null,
   "metadata": {},
   "outputs": [],
   "source": [
    "#Cleaning the movies folder\n",
    "!hdfs dfs -rm /user/${USER}/movies/*\n",
    "!hdfs dfs -rmdir /user/${USER}/movies\n",
    "!hdfs dfs -ls /user/${USER}"
   ]
  },
  {
   "cell_type": "code",
   "execution_count": null,
   "metadata": {},
   "outputs": [],
   "source": [
    "#Importing data from Mysql to HDFS\n",
    "#! && \\\n",
    "#echo $HIVE_CONF_DIR && \\\n",
    "!HADOOP_CLASSPATH=$HIVE_HOME/lib/ && \\\n",
    "sqoop import --connect jdbc:mysql://localhost/movielens?user=${USER} --driver com.mysql.jdbc.Driver --table movies -m 1 --hive-import"
   ]
  },
  {
   "cell_type": "code",
   "execution_count": null,
   "metadata": {},
   "outputs": [],
   "source": []
  }
 ],
 "metadata": {
  "kernelspec": {
   "display_name": "Python 3",
   "language": "python",
   "name": "python3"
  },
  "language_info": {
   "codemirror_mode": {
    "name": "ipython",
    "version": 3
   },
   "file_extension": ".py",
   "mimetype": "text/x-python",
   "name": "python",
   "nbconvert_exporter": "python",
   "pygments_lexer": "ipython3",
   "version": "3.7.3"
  }
 },
 "nbformat": 4,
 "nbformat_minor": 2
}
