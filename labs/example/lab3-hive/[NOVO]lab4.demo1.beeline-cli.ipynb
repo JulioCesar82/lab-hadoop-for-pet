{
 "cells": [
  {
   "cell_type": "markdown",
   "metadata": {},
   "source": [
    "# Introduction"
   ]
  },
  {
   "cell_type": "markdown",
   "metadata": {},
   "source": [
    "In this demo we will be using the [MovieLens Dataset](https://grouplens.org/datasets/movielens/). The dataset slicing options are:\n",
    "\n",
    "* **[Small](http://files.grouplens.org/datasets/movielens/ml-latest-small.zip):** 100,000 ratings and 3,600 tag applications applied to 9,000 movies by 600 users. Last updated 9/2018.\n",
    "* **[Full](http://files.grouplens.org/datasets/movielens/ml-latest.zip):** 27,000,000 ratings and 1,100,000 tag applications applied to 58,000 movies by 280,000 users. Last updated 9/2018.\n",
    "\n"
   ]
  },
  {
   "cell_type": "code",
   "execution_count": null,
   "metadata": {},
   "outputs": [],
   "source": [
    "!wget http://files.grouplens.org/datasets/movielens/ml-latest-small.zip -q --show-progress\n",
    "!unzip ml-latest-small.zip\n",
    "!rm ml-latest-small.zip"
   ]
  },
  {
   "cell_type": "code",
   "execution_count": null,
   "metadata": {},
   "outputs": [],
   "source": [
    "%env DATASET_PATH /home/jovyan/labs/lab3-hive/ml-latest-small"
   ]
  },
  {
   "cell_type": "markdown",
   "metadata": {},
   "source": [
    "# Creating a database\n",
    "\n",
    "We will be using Hive's [Beeline CLS](https://cwiki.apache.org/confluence/display/Hive/HiveServer2+Clients#HiveServer2Clients-Beeline%E2%80%93CommandLineShell).\n",
    "\n",
    "Listing databases:"
   ]
  },
  {
   "cell_type": "code",
   "execution_count": null,
   "metadata": {},
   "outputs": [],
   "source": [
    "!cd ~/resources/local/hive-2.3.9/bin/ && ./beeline -u \"jdbc:hive2://\" -e \"SHOW DATABASES;\""
   ]
  },
  {
   "cell_type": "code",
   "execution_count": null,
   "metadata": {},
   "outputs": [],
   "source": [
    "!cd ~/resources/local/hive-2.3.9/bin/ && ./beeline -u \"jdbc:hive2://\" -e \"CREATE DATABASE IF NOT EXISTS movielens;\""
   ]
  },
  {
   "cell_type": "code",
   "execution_count": null,
   "metadata": {},
   "outputs": [],
   "source": [
    "!cd ~/resources/local/hive-2.3.9/bin/ && ./beeline -u \"jdbc:hive2://\" -e \"SHOW DATABASES;\""
   ]
  },
  {
   "cell_type": "markdown",
   "metadata": {},
   "source": [
    "## Creating a table ratings in the movielens database"
   ]
  },
  {
   "cell_type": "code",
   "execution_count": null,
   "metadata": {},
   "outputs": [],
   "source": [
    "#Verifying tables\n",
    "!cd ~/resources/local/hive-2.3.9/bin/ && ./beeline -u \"jdbc:hive2://\" -e \"USE movielens; SHOW tables;\""
   ]
  },
  {
   "cell_type": "code",
   "execution_count": null,
   "metadata": {},
   "outputs": [],
   "source": [
    "#Creating table ratings\n",
    "!cd ~/resources/local/hive-2.3.9/bin/ && ./beeline -u \"jdbc:hive2://\" -e \"USE movielens; CREATE TABLE ratings(                                           \\\n",
    "                                                                     userID  INT,                              \\\n",
    "                                                                     movieID INT,                              \\\n",
    "                                                                     rating  INT,                              \\\n",
    "                                                                     time    INT )                             \\\n",
    "                                                            ROW FORMAT DELIMITED                               \\\n",
    "                                                            FIELDS TERMINATED BY ','                           \\\n",
    "                                                            STORED AS TEXTFILE                                 \\\n",
    "                                                            tblproperties(\\\"skip.header.line.count\\\"=\\\"1\\\");\""
   ]
  },
  {
   "cell_type": "code",
   "execution_count": null,
   "metadata": {},
   "outputs": [],
   "source": [
    "!cd ~/resources/local/hive-2.3.9/bin/ && ./beeline -u \"jdbc:hive2://\" -e \"USE movielens; SHOW tables;\""
   ]
  },
  {
   "cell_type": "markdown",
   "metadata": {},
   "source": [
    "## Import data from local file system"
   ]
  },
  {
   "cell_type": "code",
   "execution_count": null,
   "metadata": {},
   "outputs": [],
   "source": [
    "!cd ~/resources/local/hive-2.3.9/bin/ && ./beeline -u \"jdbc:hive2://\" -e \"USE movielens; SELECT * FROM ratings;\""
   ]
  },
  {
   "cell_type": "code",
   "execution_count": null,
   "metadata": {},
   "outputs": [],
   "source": [
    "#Loading data\n",
    "!cd ~/resources/local/hive-2.3.9/bin/ && ./beeline -u \"jdbc:hive2://\" -e \"USE movielens;  LOAD DATA LOCAL INPATH '$DATASET_PATH/ratings.csv'\\\n",
    "                                                OVERWRITE INTO TABLE ratings;\""
   ]
  },
  {
   "cell_type": "code",
   "execution_count": null,
   "metadata": {},
   "outputs": [],
   "source": [
    "!cd ~/resources/local/hive-2.3.9/bin/ && ./beeline -u \"jdbc:hive2://\" -e \"USE movielens; SELECT * FROM ratings LIMIT 10;\""
   ]
  },
  {
   "cell_type": "markdown",
   "metadata": {},
   "source": [
    "## Verifying the file created by Hive"
   ]
  },
  {
   "cell_type": "code",
   "execution_count": null,
   "metadata": {},
   "outputs": [],
   "source": [
    "!hdfs dfs -ls /user/hive/warehouse/\n",
    "!hdfs dfs -ls /user/hive/warehouse/movielens.db/\n",
    "!hdfs dfs -ls /user/hive/warehouse/movielens.db/ratings"
   ]
  },
  {
   "cell_type": "markdown",
   "metadata": {},
   "source": [
    "## Finding the most popular movie"
   ]
  },
  {
   "cell_type": "code",
   "execution_count": null,
   "metadata": {},
   "outputs": [],
   "source": [
    "!cd ~/resources/local/hive-2.3.9/bin/ && ./beeline -u \"jdbc:hive2://\" -e \"USE movielens; SELECT movieID, COUNT(movieID) as ratingCount  \\\n",
    "                                                                                FROM ratings                   \\\n",
    "                                                                                GROUP BY movieID               \\\n",
    "                                                                                ORDER BY ratingCount DESC      \\\n",
    "                                                                                LIMIT 10;\""
   ]
  },
  {
   "cell_type": "markdown",
   "metadata": {},
   "source": [
    "## Finding the name of the most popular movie"
   ]
  },
  {
   "cell_type": "markdown",
   "metadata": {},
   "source": [
    "### Creating a new table that contains movies' title"
   ]
  },
  {
   "cell_type": "code",
   "execution_count": null,
   "metadata": {},
   "outputs": [],
   "source": [
    "#Creating a new table called movieNames\n",
    "!cd ~/resources/local/hive-2.3.9/bin/ && ./beeline -u \"jdbc:hive2://\" -e \"USE movielens; CREATE TABLE movieNames(                                                   \\\n",
    "                                                                        movieID  INT,                                     \\\n",
    "                                                                        title STRING)                                     \\\n",
    "                                                                        ROW FORMAT DELIMITED                              \\\n",
    "                                                                        FIELDS TERMINATED BY ','                          \\\n",
    "                                                                        STORED AS TEXTFILE                                \\\n",
    "                                                                        tblproperties(\\\"skip.header.line.count\\\"=\\\"1\\\");\"                                                        "
   ]
  },
  {
   "cell_type": "code",
   "execution_count": null,
   "metadata": {},
   "outputs": [],
   "source": [
    "#Loading data into movieNames table\n",
    "!cd ~/resources/local/hive-2.3.9/bin/ && ./beeline -u \"jdbc:hive2://\" -e \"USE movielens;  LOAD DATA LOCAL INPATH '$DATASET_PATH/movies.csv'       \\\n",
    "                                                OVERWRITE INTO TABLE movieNames;\""
   ]
  },
  {
   "cell_type": "markdown",
   "metadata": {},
   "source": [
    "### Creating a view to store the movies' popularity"
   ]
  },
  {
   "cell_type": "code",
   "execution_count": null,
   "metadata": {},
   "outputs": [],
   "source": [
    "!cd ~/resources/local/hive-2.3.9/bin/ && ./beeline -u \"jdbc:hive2://\" -e \"USE movielens;  CREATE VIEW topMoviesIds AS                                          \\\n",
    "                                                SELECT movieID, COUNT(movieID) as ratingCount        \\\n",
    "                                                FROM ratings                                         \\\n",
    "                                                GROUP BY movieID                                     \\\n",
    "                                                ORDER BY ratingCount DESC;\""
   ]
  },
  {
   "cell_type": "markdown",
   "metadata": {},
   "source": [
    "### Finding the name of the most popular movie"
   ]
  },
  {
   "cell_type": "code",
   "execution_count": null,
   "metadata": {},
   "outputs": [],
   "source": [
    "!cd ~/resources/local/hive-2.3.9/bin/ && ./beeline -u \"jdbc:hive2://\" -e \"USE movielens;  SELECT n.title, ratingCount                                                          \\\n",
    "                                                FROM topMoviesIds t JOIN movieNames n ON t.movieID = n.movieID       \\\n",
    "                                                LIMIT 10;\""
   ]
  },
  {
   "cell_type": "markdown",
   "metadata": {},
   "source": [
    "# It's your turn"
   ]
  },
  {
   "cell_type": "markdown",
   "metadata": {},
   "source": [
    "## Find the movie with the highest average time"
   ]
  },
  {
   "cell_type": "code",
   "execution_count": null,
   "metadata": {},
   "outputs": [],
   "source": [
    "!cd ~/resources/local/hive-2.3.9/bin/ && ./beeline -u \"jdbc:hive2://\" -e \"USE movielens;  CREATE VIEW avgMoviesIds AS\\\n",
    "SELECT movieID, AVG(rating) as ratingAVG\\\n",
    "FROM ratings\\\n",
    "GROUP BY movieID\\\n",
    "ORDER BY ratingAVG DESC;\\\n",
    "SELECT n.title as titles, a.ratingAVG as average, t.ratingCount as rating\\\n",
    "FROM avgMoviesIds a JOIN topMoviesIds t ON a.movieID = t.movieID\\\n",
    "JOIN movieNames n ON t.movieID = n.movieID\\\n",
    "WHERE t.ratingCount >10\\\n",
    "ORDER BY average DESC\\\n",
    "LIMIT 10;\""
   ]
  },
  {
   "cell_type": "markdown",
   "metadata": {},
   "source": [
    "What do you think about this result??"
   ]
  },
  {
   "cell_type": "markdown",
   "metadata": {},
   "source": [
    "#Select to see the result\n",
    "\n",
    "<font color='white'>\n",
    "SELECT movieID, AVG(rating) as ratingAVG<br>\n",
    "FROM ratings<br>\n",
    "GROUP BY movieID<br>\n",
    "ORDER BY ratingAVG DESC<br>\n",
    "LIMIT 10;\n",
    "</font>\n"
   ]
  },
  {
   "cell_type": "markdown",
   "metadata": {},
   "source": [
    "## Find the movie with the highest average time, only considering movies with more than 10 ratings"
   ]
  },
  {
   "cell_type": "markdown",
   "metadata": {},
   "source": [
    "#Select to see the result\n",
    "\n",
    "<font color='white'>\n",
    "SOLUTION 1: <br>\n",
    "SELECT r.movieID, m.title, AVG(r.rating) as ratingAVG, COUNT(r.rating) as ratingCount<br>\n",
    "FROM ratings r JOIN movieNames m ON r.movieID = m.movieID<br>\n",
    "GROUP BY r.movieID, m.title<br>\n",
    "HAVING ratingCount > 10<br>\n",
    "ORDER BY ratingAVG DESC<br>\n",
    "LIMIT 10;<br><br>\n",
    "SOLUTION 2:<br>\n",
    "CREATE VIEW avgMoviesIds AS<br>\n",
    "SELECT movieID, AVG(rating) as ratingAVG<br>\n",
    "FROM ratings<br>\n",
    "GROUP BY movieID<br>\n",
    "ORDER BY ratingAVG DESC;<br>\n",
    "<br>\n",
    "SELECT n.title as titles, a.ratingAVG as average, t.ratingCount as rating<br>\n",
    "FROM avgMoviesIds a JOIN topMoviesIds t ON a.movieID = t.movieID<br>\n",
    "    JOIN movieNames n ON t.movieID = n.movieID<br>\n",
    "WHERE t.ratingCount >10<br>\n",
    "ORDER BY average DESC<br>\n",
    "LIMIT 10;\n",
    "</font>\n"
   ]
  }
 ],
 "metadata": {
  "kernelspec": {
   "display_name": "Python 3 (ipykernel)",
   "language": "python",
   "name": "python3"
  },
  "language_info": {
   "codemirror_mode": {
    "name": "ipython",
    "version": 3
   },
   "file_extension": ".py",
   "mimetype": "text/x-python",
   "name": "python",
   "nbconvert_exporter": "python",
   "pygments_lexer": "ipython3",
   "version": "3.7.12"
  }
 },
 "nbformat": 4,
 "nbformat_minor": 4
}
