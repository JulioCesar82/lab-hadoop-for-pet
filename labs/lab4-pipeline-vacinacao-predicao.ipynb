{
    "cells": [
        {
            "cell_type": "code",
            "execution_count": null,
            "metadata": {},
            "outputs": [],
            "source": [
                "# Define qual implementação de MapReduce usar: 'java' ou 'python'\n",
                "MAPREDUCE_LANG = 'java' # Altere para 'python' para usar a implementação em Python\n",
                "\n",
                "print(f\"Usando implementação de MapReduce para Predição de Vacinação: {MAPREDUCE_LANG.upper()}\")"
            ]
        },
        {
            "cell_type": "markdown",
            "metadata": {},
            "source": [
                "# Lab 4: Pipeline Interativo de Predição do Ciclo de Vacinação\n",
                "\n",
                "Este notebook executa o pipeline de predição do ciclo de vacinação para cães e gatos. Ele se conecta ao banco de dados PostgreSQL, calcula as próximas doses e identifica vacinas vencidas."
            ]
        },
        {
            "cell_type": "markdown",
            "metadata": {},
            "source": [
                "## 1. Compilando a Aplicação MapReduce"
            ]
        },
        {
            "cell_type": "code",
            "execution_count": null,
            "metadata": {},
            "outputs": [],
            "source": [
                "%%bash\n",
                "if [ \"$MAPREDUCE_LANG\" == \"java\" ]; then\n",
                "    cd labs/mapreduce-jobs/vaccination-prediction\n",
                "    mvn package -q\n",
                "    echo \"JAR compilado com sucesso em: target/vaccination-prediction-1.0-SNAPSHOT.jar\"\n",
                "fi"
            ]
        },
        {
            "cell_type": "markdown",
            "metadata": {},
            "source": [
                "## 2. Conexão ao Banco de Dados e Configuração"
            ]
        },
        {
            "cell_type": "code",
            "execution_count": null,
            "metadata": {},
            "outputs": [],
            "source": [
                "import psycopg2\n",
                "import os\n",
                "from datetime import datetime, timedelta\n",
                "\n",
                "# As credenciais e o host são baseados no arquivo docker-compose.txt\n",
                "DB_HOST = \"localhost\" # Nome do serviço no Docker Compose\n",
                "DB_NAME = \"postgres\"\n",
                "DB_USER = \"postgres\"\n",
                "DB_USER_PWD = \"postgres\"\n",
                "\n",
                "def get_db_connection():\n",
                "    return psycopg2.connect(host=DB_HOST, dbname=DB_NAME, user=DB_USER, password=DB_USER_PWD)\n",
                "\n",
                "print(\"Configuração do banco de dados carregada.\")"
            ]
        },
        {
            "cell_type": "markdown",
            "metadata": {},
            "source": [
                "## 3. Ingestão de Dados com Sqoop para MapReduce"
            ]
        },
        {
            "cell_type": "code",
            "execution_count": null,
            "metadata": {},
            "outputs": [],
            "source": [
                "%%bash\n",
                "INPUT_DIR=/petshop/input_vaccination_records\n",
                "\n",
                "# Remove o diretório de entrada se ele já existir\n",
                "hdfs dfs -test -d $INPUT_DIR\n",
                "if [ $? -eq 0 ]; then\n",
                "    echo \"Removendo diretório HDFS existente: $INPUT_DIR\"\n",
                "    hdfs dfs -rm -r $INPUT_DIR\n",
                "fi\n",
                "\n",
                "echo \"Iniciando importação com Sqoop...\"\n",
                "sqoop import \\\n",
                "    --connect jdbc:postgresql://localhost:5432/postgres \\\n",
                "    --username postgres \\\n",
                "    --password postgres \\\n",
                "    --query \"SELECT vr.vaccination_record_id, p.pet_id, p.name, p.species, vr.application_date, vrf.vaccine_name, vrf.booster_interval_months, vrf.mandatory FROM vaccination_record vr JOIN pet p ON vr.pet_id = p.pet_id JOIN vaccine_reference vrf ON vr.vaccine_reference_id = vrf.vaccine_reference_id WHERE \\$CONDITIONS\" \\\n",
                "    --target-dir $INPUT_DIR \\\n",
                "    --m 1 \\\n",
                "    --split-by vr.vaccination_record_id\n",
                "\n",
                "echo \"\\nImportação concluída. Verificando os dados no HDFS:\"\n",
                "hdfs dfs -ls $INPUT_DIR\n",
                "hdfs dfs -cat $INPUT_DIR/part-m-00000 | head -n 5"
            ]
        },
        {
            "cell_type": "markdown",
            "metadata": {},
            "source": [
                "## 4. Execução do Job MapReduce para Predição de Vacinação"
            ]
        },
        {
            "cell_type": "code",
            "execution_count": null,
            "metadata": {},
            "outputs": [],
            "source": [
                "%%bash\n",
                "INPUT_DIR=/petshop/input_vaccination_records\n",
                "OUTPUT_DIR=/petshop/output_vaccination_predictions\n",
                "\n",
                "# Remove o diretório de saída se ele já existir\n",
                "hdfs dfs -test -d $OUTPUT_DIR\n",
                "if [ $? -eq 0 ]; then\n",
                "    echo \"Removendo diretório HDFS de saída existente: $OUTPUT_DIR\"\n",
                "    hdfs dfs -rm -r $OUTPUT_DIR\n",
                "fi\n",
                "\n",
                "if [ \"$MAPREDUCE_LANG\" == \"java\" ]; then\n",
                "    JAR_PATH=labs/mapreduce-jobs/vaccination-prediction/target/vaccination-prediction-1.0-SNAPSHOT.jar\n",
                "    echo \"Executando o job MapReduce (Java)...\n",
                "    hadoop jar $JAR_PATH $INPUT_DIR $OUTPUT_DIR\n",
                "elif [ \"$MAPREDUCE_LANG\" == \"python\" ]; then\n",
                "    MAPPER_PATH=labs/mapreduce-jobs/vaccination-prediction-python/mapper.py\n",
                "    REDUCER_PATH=labs/mapreduce-jobs/vaccination-prediction-python/reducer.py\n",
                "    echo \"Executando o job MapReduce (Python)...\n",
                "    hadoop jar $HADOOP_HOME/share/hadoop/tools/lib/hadoop-streaming-*.jar \\\n",
                "        -file $MAPPER_PATH -mapper $MAPPER_PATH \\\n",
                "        -file $REDUCER_PATH -reducer $REDUCER_PATH \\\n",
                "        -input $INPUT_DIR \\\n",
                "        -output $OUTPUT_DIR\n",
                "fi\n",
                "\n",
                "echo \"\\nJob de Predição de Vacinação concluído!\""
            ]
        },
        {
            "cell_type": "markdown",
            "metadata": {},
            "source": [
                "## 5. Verificação do Resultado do MapReduce"
            ]
        },
        {
            "cell_type": "code",
            "execution_count": null,
            "metadata": {},
            "outputs": [],
            "source": [
                "%%bash\n",
                "OUTPUT_DIR=/petshop/output_vaccination_predictions\n",
                "echo \"Conteúdo do diretório de saída:\"\n",
                "hdfs dfs -ls $OUTPUT_DIR\n",
                "\n",
                "echo \"\\nResultado do processamento:\"\n",
                "hdfs dfs -cat $OUTPUT_DIR/part-r-00000"
            ]
        },
        {
            "cell_type": "markdown",
            "metadata": {},
            "source": [
                "## 6. Carregando e Consultando no Redis (Exemplo)"
            ]
        },
        {
            "cell_type": "code",
            "execution_count": null,
            "metadata": {},
            "outputs": [],
            "source": [
                "import redis\n",
                "redis = redis.Redis(host = 'localhost', port=6379)\n",
                "redis.ping()"
            ]
        },
        {
            "cell_type": "code",
            "execution_count": null,
            "metadata": {},
            "outputs": [],
            "source": [
                "%%bash\n",
                "OUTPUT_FILE=/petshop/output_vaccination_predictions/part-r-00000\n",
                "REDIS_HOST=localhost\n",
                "\n",
                "# Verifica se o arquivo de resultado existe\n",
                "hdfs dfs -test -e $OUTPUT_FILE\n",
                "if [ $? -ne 0 ]; then\n",
                "    echo \"Erro: Arquivo de resultado não encontrado em $OUTPUT_FILE\"\n",
                "    exit 1\n",
                "fi\n",
                "\n",
                "echo \"Limpando recomendações antigas no Redis...\"\n",
                "redis-cli -h $REDIS_HOST KEYS \"recomendacao:vaccination:pet:*\" | xargs -r redis-cli -h $REDIS_HOST DEL\n",
                "\n",
                "echo \"Carregando novas recomendações do HDFS para o Redis...\"\n",
                "# Lê o arquivo do HDFS e processa linha por linha\n",
                "hdfs dfs -cat $OUTPUT_FILE | while IFS=$'\\t' read -r pet_id values; do\n",
                "    # Extrai os valores (vaccine_name, next_dose_date, is_overdue, mandatory)\n",
                "    vaccine_name=$(echo $values | cut -d',' -f1)\n",
                "    next_dose_date=$(echo $values | cut -d',' -f2)\n",
                "    is_overdue=$(echo $values | cut -d',' -f3)\n",
                "    mandatory=$(echo $values | cut -d',' -f4)\n",
                "    \n",
                "    # Monta e executa o comando HSET para o Redis\n",
                "    echo \"Inserindo predição de vacinação para o pet_id: $pet_id, vacina: $vaccine_name\"\n",
                "    redis-cli -h $REDIS_HOST HSET \"recomendacao:vaccination:pet:$pet_id\" \"$vaccine_name\" \\\n",
                "        next_dose_date \"$next_dose_date\" \\\n",
                "        is_overdue \"$is_overdue\" \\\n",
                "        mandatory \"$mandatory\"\n",
                "done\n",
                "\n",
                "echo \"\\nCarga de dados concluída.\"\n",
                "\n",
                "echo \"Totos os registros inseridos:\"\n",
                "redis-cli -h $REDIS_HOST KEYS \"recomendacao:vaccination:pet:*\"\n",
                "redis-cli -h $REDIS_HOST HGETALL \"recomendacao:vaccination:pet:1\" # Example for pet_id 1"
            ]
        },
        {
            "cell_type": "markdown",
            "metadata": {},
            "source": [
                "## 7. Identificar Próximas Vacinas Recomendadas (Baseado na Idade e Espécie)"
            ]
        },
        {
            "cell_type": "code",
            "execution_count": null,
            "metadata": {},
            "outputs": [],
            "source": [
                "def get_recommended_vaccines_for_pet(pet_id):\n",
                "    conn = None\n",
                "    cur = None\n",
                "    try:\n",
                "        conn = get_db_connection()\n",
                "        cur = conn.cursor()\n",
                "\n",
                "        # Get pet details and age\n",
                "        cur.execute(\"SELECT species, EXTRACT(EPOCH FROM (AGE(NOW(), birth_date))) / 2592000 AS age_months FROM pet WHERE pet_id = %s;\", (pet_id,))\n",
                "        pet_info = cur.fetchone()\n",
                "\n",
                "        if not pet_info:\n",
                "            print(f\"Pet com ID {pet_id} não encontrado.\")\n",
                "            return []\n",
                "\n",
                "        species, age_months = pet_info\n",
                "\n",
                "        # Get vaccines already applied to the pet\n",
                "        cur.execute(\"SELECT vaccine_reference_id FROM vaccination_record WHERE pet_id = %s;\", (pet_id,))\n",
                "        applied_vaccine_ids = {row[0] for row in cur.fetchall()}\n",
                "\n",
                "        # Get all vaccine references relevant to the pet's species and age\n",
                "        query = \"\"\"\n",
                "        SELECT\n",
                "            vaccine_name,\n",
                "            description,\n",
                "            mandatory,\n",
                "            first_dose_age_months,\n",
                "            booster_interval_months\n",
                "        FROM vaccine_reference\n",
                "        WHERE (target_species = %s OR target_species = 'Ambos')\n",
                "          AND first_dose_age_months <= %s\n",
                "          AND vaccine_reference_id NOT IN (SELECT vaccine_reference_id FROM vaccination_record WHERE pet_id = %s);\n",
                "        \"\"\"\n",
                "        cur.execute(query, (species, age_months, pet_id))\n",
                "        recommended_vaccines = cur.fetchall()\n",
                "\n",
                "        # Filter out vaccines that have already been applied or are not yet due\n",
                "        filtered_recommendations = []\n",
                "        for rec in recommended_vaccines:\n",
                "            (vaccine_name, description, mandatory, first_dose_age_months, booster_interval_months) = rec\n",
                "            # For simplicity, this example assumes a single dose or the first dose is being recommended\n",
                "            # More complex logic would be needed to track booster schedules for *unapplied* vaccines\n",
                "            filtered_recommendations.append({\n",
                "                'vaccine_name': vaccine_name,\n",
                "                'description': description,\n",
                "                'mandatory': mandatory,\n",
                "                'first_dose_age_months': first_dose_age_months,\n",
                "                'booster_interval_months': booster_interval_months\n",
                "            })\n",
                "        return filtered_recommendations\n",
                "\n",
                "    except psycopg2.OperationalError as e:\n",
                "        print(f\"Erro de conexão: {e}\")\n",
                "    except Exception as e:\n",
                "        print(f\"Ocorreu um erro: {e}\")\n",
                "    finally:\n",
                "        if cur:\n",
                "            cur.close()\n",
                "        if conn:\n",
                "            conn.close()\n",
                "\n",
                "# Exemplo de uso:\n",
                "# Supondo que 'Bidu' (pet_id=1) tenha uma data de nascimento para calcular a idade\n",
                "# Para este exemplo, vamos adicionar uma coluna 'birth_date' à tabela 'pet' para simular a idade.\n",
                "# Você precisaria atualizar o DDL e DML em lab1-postgresql-setup.ipynb para incluir 'birth_date'.\n",
                "\n",
                "# Para fins de demonstração, vamos simular um pet_id e uma idade.\n",
                "# Para um uso real, a tabela 'pet' precisaria de uma coluna 'birth_date'.\n",
                "\n",
                "print(\"\\nRecomendações de Vacinas para Pet (Exemplo - requer 'birth_date' na tabela pet):\")\n",
                "# Para testar esta função, você precisaria adicionar uma coluna `birth_date` à tabela `pet`\n",
                "# e popular com dados. Por exemplo:\n",
                "# ALTER TABLE pet ADD COLUMN birth_date DATE;\n",
                "# UPDATE pet SET birth_date = '2025-01-01' WHERE pet_id = 1;\n",
                "# UPDATE pet SET birth_date = '2025-02-15' WHERE pet_id = 2;\n",
                "# UPDATE pet SET birth_date = '2024-10-20' WHERE pet_id = 3;\n",
                "\n",
                "# Exemplo de chamada (assumindo que pet_id 1 existe e tem birth_date):\n",
                "# recommended = get_recommended_vaccines_for_pet(1)\n",
                "# if recommended:\n",
                "#     for rec in recommended:\n",
                "#         print(rec)\n",
                "# else:\n",
                "#     print(\"Nenhuma vacina recomendada ou pet não encontrado.\")"
            ]
        }
    ],
    "metadata": {
        "kernelspec": {
            "display_name": "Python 3 (ipykernel)",
            "language": "python",
            "name": "python3"
        },
        "language_info": {
            "codemirror_mode": {
                "name": "ipython",
                "version": 3
            },
            "file_extension": ".py",
            "mimetype": "text/x-python",
            "name": "python",
            "nbconvert_exporter": "python",
            "pygments_lexer": "ipython3",
            "version": "3.11.9"
        }
    },
    "nbformat": 4,
    "nbformat_minor": 4
}
