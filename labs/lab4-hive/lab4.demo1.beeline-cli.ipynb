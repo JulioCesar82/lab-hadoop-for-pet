{
 "cells": [
  {
   "cell_type": "markdown",
   "metadata": {},
   "source": [
    "# Introduction"
   ]
  },
  {
   "cell_type": "markdown",
   "metadata": {},
   "source": [
    "In this demo we will be using the [MovieLens Dataset](https://grouplens.org/datasets/movielens/). The dataset slicing options are:\n",
    "\n",
    "* **[Small](http://files.grouplens.org/datasets/movielens/ml-latest-small.zip):** 100,000 ratings and 3,600 tag applications applied to 9,000 movies by 600 users. Last updated 9/2018.\n",
    "* **[Full](http://files.grouplens.org/datasets/movielens/ml-latest.zip):** 27,000,000 ratings and 1,100,000 tag applications applied to 58,000 movies by 280,000 users. Last updated 9/2018.\n",
    "\n"
   ]
  },
  {
   "cell_type": "code",
   "execution_count": 1,
   "metadata": {},
   "outputs": [
    {
     "name": "stdout",
     "output_type": "stream",
     "text": [
      "ml-latest-small.zip 100%[===================>] 955.28K   300KB/s    in 3.2s    \n",
      "Archive:  ml-latest-small.zip\n",
      "  inflating: ml-latest-small/links.csv  \n",
      "  inflating: ml-latest-small/tags.csv  \n",
      "  inflating: ml-latest-small/ratings.csv  \n",
      "  inflating: ml-latest-small/README.txt  \n",
      "  inflating: ml-latest-small/movies.csv  \n"
     ]
    }
   ],
   "source": [
    "!wget http://files.grouplens.org/datasets/movielens/ml-latest-small.zip -q --show-progress\n",
    "!unzip ml-latest-small.zip\n",
    "!rm ml-latest-small.zip"
   ]
  },
  {
   "cell_type": "code",
   "execution_count": 2,
   "metadata": {},
   "outputs": [
    {
     "name": "stdout",
     "output_type": "stream",
     "text": [
      "env: DATASET_PATH=ml-latest-small\n"
     ]
    }
   ],
   "source": [
    "%env DATASET_PATH ml-latest-small"
   ]
  },
  {
   "cell_type": "markdown",
   "metadata": {},
   "source": [
    "# Creating a database\n",
    "\n",
    "We will be using Hive's [Beeline CLS](https://cwiki.apache.org/confluence/display/Hive/HiveServer2+Clients#HiveServer2Clients-Beeline%E2%80%93CommandLineShell).\n",
    "\n",
    "Listing databases:"
   ]
  },
  {
   "cell_type": "code",
   "execution_count": 3,
   "metadata": {},
   "outputs": [
    {
     "name": "stdout",
     "output_type": "stream",
     "text": [
      "Connecting to jdbc:hive2://\n",
      "Connected to: Apache Hive (version 2.3.5)\n",
      "Driver: Hive JDBC (version 2.3.5)\n",
      "Transaction isolation: TRANSACTION_REPEATABLE_READ\n",
      "OK\n",
      "+----------------+\n",
      "| database_name  |\n",
      "+----------------+\n",
      "| default        |\n",
      "+----------------+\n",
      "1 row selected (1.079 seconds)\n",
      "Beeline version 2.3.5 by Apache Hive\n",
      "Closing: 0: jdbc:hive2://\n"
     ]
    }
   ],
   "source": [
    "!beeline -u \"jdbc:hive2://\" -e \"SHOW DATABASES;\""
   ]
  },
  {
   "cell_type": "code",
   "execution_count": 4,
   "metadata": {},
   "outputs": [
    {
     "name": "stdout",
     "output_type": "stream",
     "text": [
      "Connecting to jdbc:hive2://\n",
      "Connected to: Apache Hive (version 2.3.5)\n",
      "Driver: Hive JDBC (version 2.3.5)\n",
      "Transaction isolation: TRANSACTION_REPEATABLE_READ\n",
      "OK\n",
      "No rows affected (1.038 seconds)\n",
      "Beeline version 2.3.5 by Apache Hive\n",
      "Closing: 0: jdbc:hive2://\n"
     ]
    }
   ],
   "source": [
    "!beeline -u \"jdbc:hive2://\" -e \"CREATE DATABASE IF NOT EXISTS movielens;\""
   ]
  },
  {
   "cell_type": "code",
   "execution_count": 5,
   "metadata": {},
   "outputs": [
    {
     "name": "stdout",
     "output_type": "stream",
     "text": [
      "Connecting to jdbc:hive2://\n",
      "Connected to: Apache Hive (version 2.3.5)\n",
      "Driver: Hive JDBC (version 2.3.5)\n",
      "Transaction isolation: TRANSACTION_REPEATABLE_READ\n",
      "OK\n",
      "+----------------+\n",
      "| database_name  |\n",
      "+----------------+\n",
      "| default        |\n",
      "| movielens      |\n",
      "+----------------+\n",
      "2 rows selected (1.06 seconds)\n",
      "Beeline version 2.3.5 by Apache Hive\n",
      "Closing: 0: jdbc:hive2://\n"
     ]
    }
   ],
   "source": [
    "!beeline -u \"jdbc:hive2://\" -e \"SHOW DATABASES;\""
   ]
  },
  {
   "cell_type": "markdown",
   "metadata": {},
   "source": [
    "## Creating a table ratings in the movielens database"
   ]
  },
  {
   "cell_type": "code",
   "execution_count": 6,
   "metadata": {},
   "outputs": [
    {
     "name": "stdout",
     "output_type": "stream",
     "text": [
      "Connecting to jdbc:hive2://\n",
      "Connected to: Apache Hive (version 2.3.5)\n",
      "Driver: Hive JDBC (version 2.3.5)\n",
      "Transaction isolation: TRANSACTION_REPEATABLE_READ\n",
      "OK\n",
      "No rows affected (0.946 seconds)\n",
      "OK\n",
      "+-----------+\n",
      "| tab_name  |\n",
      "+-----------+\n",
      "+-----------+\n",
      "No rows selected (0.181 seconds)\n",
      "Beeline version 2.3.5 by Apache Hive\n",
      "Closing: 0: jdbc:hive2://\n"
     ]
    }
   ],
   "source": [
    "#Verifying tables\n",
    "!beeline -u \"jdbc:hive2://\" -e \"USE movielens; SHOW tables;\""
   ]
  },
  {
   "cell_type": "code",
   "execution_count": 7,
   "metadata": {},
   "outputs": [
    {
     "name": "stdout",
     "output_type": "stream",
     "text": [
      "Connecting to jdbc:hive2://\n",
      "Connected to: Apache Hive (version 2.3.5)\n",
      "Driver: Hive JDBC (version 2.3.5)\n",
      "Transaction isolation: TRANSACTION_REPEATABLE_READ\n",
      "OK\n",
      "No rows affected (0.968 seconds)\n",
      "OK\n",
      "No rows affected (0.655 seconds)\n",
      "Beeline version 2.3.5 by Apache Hive\n",
      "Closing: 0: jdbc:hive2://\n"
     ]
    }
   ],
   "source": [
    "#Creating table ratings\n",
    "!beeline -u \"jdbc:hive2://\" -e \"USE movielens; CREATE TABLE ratings(                                           \\\n",
    "                                                                     userID  INT,                              \\\n",
    "                                                                     movieID INT,                              \\\n",
    "                                                                     rating  INT,                              \\\n",
    "                                                                     time    INT )                             \\\n",
    "                                                            ROW FORMAT DELIMITED                               \\\n",
    "                                                            FIELDS TERMINATED BY ','                           \\\n",
    "                                                            STORED AS TEXTFILE                                 \\\n",
    "                                                            tblproperties(\\\"skip.header.line.count\\\"=\\\"1\\\");\""
   ]
  },
  {
   "cell_type": "code",
   "execution_count": 8,
   "metadata": {},
   "outputs": [
    {
     "name": "stdout",
     "output_type": "stream",
     "text": [
      "Connecting to jdbc:hive2://\n",
      "Connected to: Apache Hive (version 2.3.5)\n",
      "Driver: Hive JDBC (version 2.3.5)\n",
      "Transaction isolation: TRANSACTION_REPEATABLE_READ\n",
      "OK\n",
      "No rows affected (0.968 seconds)\n",
      "OK\n",
      "+-----------+\n",
      "| tab_name  |\n",
      "+-----------+\n",
      "| ratings   |\n",
      "+-----------+\n",
      "1 row selected (0.272 seconds)\n",
      "Beeline version 2.3.5 by Apache Hive\n",
      "Closing: 0: jdbc:hive2://\n"
     ]
    }
   ],
   "source": [
    "!beeline -u \"jdbc:hive2://\" -e \"USE movielens; SHOW tables;\""
   ]
  },
  {
   "cell_type": "markdown",
   "metadata": {},
   "source": [
    "## Import data from local file system"
   ]
  },
  {
   "cell_type": "code",
   "execution_count": 9,
   "metadata": {},
   "outputs": [
    {
     "name": "stdout",
     "output_type": "stream",
     "text": [
      "Connecting to jdbc:hive2://\n",
      "Connected to: Apache Hive (version 2.3.5)\n",
      "Driver: Hive JDBC (version 2.3.5)\n",
      "Transaction isolation: TRANSACTION_REPEATABLE_READ\n",
      "OK\n",
      "No rows affected (0.916 seconds)\n",
      "OK\n",
      "+-----------------+------------------+-----------------+---------------+\n",
      "| ratings.userid  | ratings.movieid  | ratings.rating  | ratings.time  |\n",
      "+-----------------+------------------+-----------------+---------------+\n",
      "+-----------------+------------------+-----------------+---------------+\n",
      "No rows selected (1.336 seconds)\n",
      "Beeline version 2.3.5 by Apache Hive\n",
      "Closing: 0: jdbc:hive2://\n"
     ]
    }
   ],
   "source": [
    "!beeline -u \"jdbc:hive2://\" -e \"USE movielens; SELECT * FROM ratings;\""
   ]
  },
  {
   "cell_type": "code",
   "execution_count": 10,
   "metadata": {},
   "outputs": [
    {
     "name": "stdout",
     "output_type": "stream",
     "text": [
      "Connecting to jdbc:hive2://\n",
      "Connected to: Apache Hive (version 2.3.5)\n",
      "Driver: Hive JDBC (version 2.3.5)\n",
      "Transaction isolation: TRANSACTION_REPEATABLE_READ\n",
      "OK\n",
      "No rows affected (0.896 seconds)\n",
      "Loading data to table movielens.ratings\n",
      "OK\n",
      "No rows affected (1.344 seconds)\n",
      "Beeline version 2.3.5 by Apache Hive\n",
      "Closing: 0: jdbc:hive2://\n"
     ]
    }
   ],
   "source": [
    "#Loading data\n",
    "!beeline -u \"jdbc:hive2://\" -e \"USE movielens;  LOAD DATA LOCAL INPATH '$(pwd)/$DATASET_PATH/ratings.csv'\\\n",
    "                                                OVERWRITE INTO TABLE ratings;\""
   ]
  },
  {
   "cell_type": "code",
   "execution_count": 11,
   "metadata": {},
   "outputs": [
    {
     "name": "stdout",
     "output_type": "stream",
     "text": [
      "Connecting to jdbc:hive2://\n",
      "Connected to: Apache Hive (version 2.3.5)\n",
      "Driver: Hive JDBC (version 2.3.5)\n",
      "Transaction isolation: TRANSACTION_REPEATABLE_READ\n",
      "OK\n",
      "No rows affected (0.908 seconds)\n",
      "OK\n",
      "+-----------------+------------------+-----------------+---------------+\n",
      "| ratings.userid  | ratings.movieid  | ratings.rating  | ratings.time  |\n",
      "+-----------------+------------------+-----------------+---------------+\n",
      "| 1               | 1                | 4               | 964982703     |\n",
      "| 1               | 3                | 4               | 964981247     |\n",
      "| 1               | 6                | 4               | 964982224     |\n",
      "| 1               | 47               | 5               | 964983815     |\n",
      "| 1               | 50               | 5               | 964982931     |\n",
      "| 1               | 70               | 3               | 964982400     |\n",
      "| 1               | 101              | 5               | 964980868     |\n",
      "| 1               | 110              | 4               | 964982176     |\n",
      "| 1               | 151              | 5               | 964984041     |\n",
      "| 1               | 157              | 5               | 964984100     |\n",
      "+-----------------+------------------+-----------------+---------------+\n",
      "10 rows selected (1.378 seconds)\n",
      "Beeline version 2.3.5 by Apache Hive\n",
      "Closing: 0: jdbc:hive2://\n"
     ]
    }
   ],
   "source": [
    "!beeline -u \"jdbc:hive2://\" -e \"USE movielens; SELECT * FROM ratings LIMIT 10;\""
   ]
  },
  {
   "cell_type": "markdown",
   "metadata": {},
   "source": [
    "## Verifying the file created by Hive"
   ]
  },
  {
   "cell_type": "code",
   "execution_count": 12,
   "metadata": {},
   "outputs": [
    {
     "name": "stdout",
     "output_type": "stream",
     "text": [
      "Found 1 items\n",
      "drwxr-xr-x   - matheus supergroup          0 2019-07-18 06:26 /user/hive/warehouse/movielens.db\n",
      "Found 1 items\n",
      "drwxr-xr-x   - matheus supergroup          0 2019-07-18 06:27 /user/hive/warehouse/movielens.db/ratings\n",
      "Found 1 items\n",
      "-rwxr-xr-x   1 matheus supergroup    2483723 2019-07-18 06:27 /user/hive/warehouse/movielens.db/ratings/ratings.csv\n"
     ]
    }
   ],
   "source": [
    "!hdfs dfs -ls /user/hive/warehouse/\n",
    "!hdfs dfs -ls /user/hive/warehouse/movielens.db/\n",
    "!hdfs dfs -ls /user/hive/warehouse/movielens.db/ratings"
   ]
  },
  {
   "cell_type": "markdown",
   "metadata": {},
   "source": [
    "## Finding the most popular movie"
   ]
  },
  {
   "cell_type": "code",
   "execution_count": 13,
   "metadata": {},
   "outputs": [
    {
     "name": "stdout",
     "output_type": "stream",
     "text": [
      "Connecting to jdbc:hive2://\n",
      "Connected to: Apache Hive (version 2.3.5)\n",
      "Driver: Hive JDBC (version 2.3.5)\n",
      "Transaction isolation: TRANSACTION_REPEATABLE_READ\n",
      "OK\n",
      "No rows affected (0.935 seconds)\n",
      "WARNING: Hive-on-MR is deprecated in Hive 2 and may not be available in the future versions. Consider using a different execution engine (i.e. spark, tez) or using Hive 1.X releases.\n",
      "Query ID = matheus_20190718062725_1c5962bb-f38e-4869-97ef-e57e3fcd2c52\n",
      "Total jobs = 2\n",
      "Launching Job 1 out of 2\n",
      "Number of reduce tasks not specified. Estimated from input data size: 1\n",
      "In order to change the average load for a reducer (in bytes):\n",
      "  set hive.exec.reducers.bytes.per.reducer=<number>\n",
      "In order to limit the maximum number of reducers:\n",
      "  set hive.exec.reducers.max=<number>\n",
      "In order to set a constant number of reducers:\n",
      "  set mapreduce.job.reduces=<number>\n",
      "WARNING: Hive-on-MR is deprecated in Hive 2 and may not be available in the future versions. Consider using a different execution engine (i.e. spark, tez) or using Hive 1.X releases.\n",
      "Starting Job = job_1563431070808_0001, Tracking URL = http://54b67fa7c528:8088/proxy/application_1563431070808_0001/\n",
      "Kill Command = /home/matheus/hadoop-2.9.2/bin/hadoop job  -kill job_1563431070808_0001\n",
      "Hadoop job information for Stage-1: number of mappers: 1; number of reducers: 1\n",
      "2019-07-18 06:27:33,835 Stage-1 map = 0%,  reduce = 0%\n",
      "2019-07-18 06:27:39,018 Stage-1 map = 100%,  reduce = 0%, Cumulative CPU 2.49 sec\n",
      "2019-07-18 06:27:43,162 Stage-1 map = 100%,  reduce = 100%, Cumulative CPU 4.15 sec\n",
      "MapReduce Total cumulative CPU time: 4 seconds 150 msec\n",
      "Ended Job = job_1563431070808_0001\n",
      "Launching Job 2 out of 2\n",
      "Number of reduce tasks determined at compile time: 1\n",
      "In order to change the average load for a reducer (in bytes):\n",
      "  set hive.exec.reducers.bytes.per.reducer=<number>\n",
      "In order to limit the maximum number of reducers:\n",
      "  set hive.exec.reducers.max=<number>\n",
      "In order to set a constant number of reducers:\n",
      "  set mapreduce.job.reduces=<number>\n",
      "Starting Job = job_1563431070808_0002, Tracking URL = http://54b67fa7c528:8088/proxy/application_1563431070808_0002/\n",
      "Kill Command = /home/matheus/hadoop-2.9.2/bin/hadoop job  -kill job_1563431070808_0002\n",
      "Hadoop job information for Stage-2: number of mappers: 1; number of reducers: 1\n",
      "2019-07-18 06:27:54,858 Stage-2 map = 0%,  reduce = 0%\n",
      "2019-07-18 06:27:58,942 Stage-2 map = 100%,  reduce = 0%, Cumulative CPU 1.58 sec\n",
      "2019-07-18 06:28:04,081 Stage-2 map = 100%,  reduce = 100%, Cumulative CPU 3.01 sec\n",
      "MapReduce Total cumulative CPU time: 3 seconds 10 msec\n",
      "Ended Job = job_1563431070808_0002\n",
      "MapReduce Jobs Launched: \n",
      "Stage-Stage-1: Map: 1  Reduce: 1   Cumulative CPU: 4.15 sec   HDFS Read: 2491236 HDFS Write: 208883 SUCCESS\n",
      "Stage-Stage-2: Map: 1  Reduce: 1   Cumulative CPU: 3.01 sec   HDFS Read: 214534 HDFS Write: 288 SUCCESS\n",
      "Total MapReduce CPU Time Spent: 7 seconds 160 msec\n",
      "OK\n",
      "+----------+--------------+\n",
      "| movieid  | ratingcount  |\n",
      "+----------+--------------+\n",
      "| 356      | 329          |\n",
      "| 318      | 317          |\n",
      "| 296      | 307          |\n",
      "| 593      | 279          |\n",
      "| 2571     | 278          |\n",
      "| 260      | 251          |\n",
      "| 480      | 238          |\n",
      "| 110      | 237          |\n",
      "| 589      | 224          |\n",
      "| 527      | 220          |\n",
      "+----------+--------------+\n",
      "10 rows selected (39.62 seconds)\n",
      "Beeline version 2.3.5 by Apache Hive\n",
      "Closing: 0: jdbc:hive2://\n"
     ]
    }
   ],
   "source": [
    "!beeline -u \"jdbc:hive2://\" -e \"USE movielens; SELECT movieID, COUNT(movieID) as ratingCount  \\\n",
    "                                                                                FROM ratings                   \\\n",
    "                                                                                GROUP BY movieID               \\\n",
    "                                                                                ORDER BY ratingCount DESC      \\\n",
    "                                                                                LIMIT 10;\""
   ]
  },
  {
   "cell_type": "markdown",
   "metadata": {},
   "source": [
    "## Finding the name of the most popular movie"
   ]
  },
  {
   "cell_type": "markdown",
   "metadata": {},
   "source": [
    "### Creating a new table that contains movies' title"
   ]
  },
  {
   "cell_type": "code",
   "execution_count": 14,
   "metadata": {},
   "outputs": [
    {
     "name": "stdout",
     "output_type": "stream",
     "text": [
      "Connecting to jdbc:hive2://\n",
      "Connected to: Apache Hive (version 2.3.5)\n",
      "Driver: Hive JDBC (version 2.3.5)\n",
      "Transaction isolation: TRANSACTION_REPEATABLE_READ\n",
      "OK\n",
      "No rows affected (0.908 seconds)\n",
      "OK\n",
      "No rows affected (0.56 seconds)\n",
      "Beeline version 2.3.5 by Apache Hive\n",
      "Closing: 0: jdbc:hive2://\n"
     ]
    }
   ],
   "source": [
    "#Creating a new table called movieNames\n",
    "!beeline -u \"jdbc:hive2://\" -e \"USE movielens; CREATE TABLE movieNames(                                                   \\\n",
    "                                                                        movieID  INT,                                     \\\n",
    "                                                                        title STRING)                                     \\\n",
    "                                                                        ROW FORMAT DELIMITED                              \\\n",
    "                                                                        FIELDS TERMINATED BY ','                          \\\n",
    "                                                                        STORED AS TEXTFILE                                \\\n",
    "                                                                        tblproperties(\\\"skip.header.line.count\\\"=\\\"1\\\");\"                                                        "
   ]
  },
  {
   "cell_type": "code",
   "execution_count": 15,
   "metadata": {},
   "outputs": [
    {
     "name": "stdout",
     "output_type": "stream",
     "text": [
      "Connecting to jdbc:hive2://\n",
      "Connected to: Apache Hive (version 2.3.5)\n",
      "Driver: Hive JDBC (version 2.3.5)\n",
      "Transaction isolation: TRANSACTION_REPEATABLE_READ\n",
      "OK\n",
      "No rows affected (0.908 seconds)\n",
      "Loading data to table movielens.movienames\n",
      "OK\n",
      "No rows affected (0.894 seconds)\n",
      "Beeline version 2.3.5 by Apache Hive\n",
      "Closing: 0: jdbc:hive2://\n"
     ]
    }
   ],
   "source": [
    "#Loading data into movieNames table\n",
    "!beeline -u \"jdbc:hive2://\" -e \"USE movielens;  LOAD DATA LOCAL INPATH '$DATASET_PATH/movies.csv'       \\\n",
    "                                                OVERWRITE INTO TABLE movieNames;\""
   ]
  },
  {
   "cell_type": "markdown",
   "metadata": {},
   "source": [
    "### Creating a view to store the movies' popularity"
   ]
  },
  {
   "cell_type": "code",
   "execution_count": 16,
   "metadata": {},
   "outputs": [
    {
     "name": "stdout",
     "output_type": "stream",
     "text": [
      "Connecting to jdbc:hive2://\n",
      "Connected to: Apache Hive (version 2.3.5)\n",
      "Driver: Hive JDBC (version 2.3.5)\n",
      "Transaction isolation: TRANSACTION_REPEATABLE_READ\n",
      "OK\n",
      "No rows affected (0.901 seconds)\n",
      "OK\n",
      "No rows affected (1.424 seconds)\n",
      "Beeline version 2.3.5 by Apache Hive\n",
      "Closing: 0: jdbc:hive2://\n"
     ]
    }
   ],
   "source": [
    "!beeline -u \"jdbc:hive2://\" -e \"USE movielens;  CREATE VIEW topMoviesIds AS                                          \\\n",
    "                                                SELECT movieID, COUNT(movieID) as ratingCount        \\\n",
    "                                                FROM ratings                                         \\\n",
    "                                                GROUP BY movieID                                     \\\n",
    "                                                ORDER BY ratingCount DESC;\""
   ]
  },
  {
   "cell_type": "markdown",
   "metadata": {},
   "source": [
    "### Finding the name of the most popular movie"
   ]
  },
  {
   "cell_type": "code",
   "execution_count": 17,
   "metadata": {},
   "outputs": [
    {
     "name": "stdout",
     "output_type": "stream",
     "text": [
      "Connecting to jdbc:hive2://\n",
      "Connected to: Apache Hive (version 2.3.5)\n",
      "Driver: Hive JDBC (version 2.3.5)\n",
      "Transaction isolation: TRANSACTION_REPEATABLE_READ\n",
      "OK\n",
      "No rows affected (0.916 seconds)\n",
      "WARNING: Hive-on-MR is deprecated in Hive 2 and may not be available in the future versions. Consider using a different execution engine (i.e. spark, tez) or using Hive 1.X releases.\n",
      "Query ID = matheus_20190718062840_553754b9-482a-4b00-8420-c3e203f26518\n",
      "Total jobs = 3\n",
      "Launching Job 1 out of 3\n",
      "Number of reduce tasks not specified. Estimated from input data size: 1\n",
      "In order to change the average load for a reducer (in bytes):\n",
      "  set hive.exec.reducers.bytes.per.reducer=<number>\n",
      "In order to limit the maximum number of reducers:\n",
      "  set hive.exec.reducers.max=<number>\n",
      "In order to set a constant number of reducers:\n",
      "  set mapreduce.job.reduces=<number>\n",
      "WARNING: Hive-on-MR is deprecated in Hive 2 and may not be available in the future versions. Consider using a different execution engine (i.e. spark, tez) or using Hive 1.X releases.\n",
      "Starting Job = job_1563431070808_0003, Tracking URL = http://54b67fa7c528:8088/proxy/application_1563431070808_0003/\n",
      "Kill Command = /home/matheus/hadoop-2.9.2/bin/hadoop job  -kill job_1563431070808_0003\n",
      "Hadoop job information for Stage-1: number of mappers: 1; number of reducers: 1\n",
      "2019-07-18 06:28:47,862 Stage-1 map = 0%,  reduce = 0%\n",
      "2019-07-18 06:28:53,043 Stage-1 map = 100%,  reduce = 0%, Cumulative CPU 2.87 sec\n",
      "2019-07-18 06:28:57,166 Stage-1 map = 100%,  reduce = 100%, Cumulative CPU 4.58 sec\n",
      "MapReduce Total cumulative CPU time: 4 seconds 580 msec\n",
      "Ended Job = job_1563431070808_0003\n",
      "Launching Job 2 out of 3\n",
      "Number of reduce tasks determined at compile time: 1\n",
      "In order to change the average load for a reducer (in bytes):\n",
      "  set hive.exec.reducers.bytes.per.reducer=<number>\n",
      "In order to limit the maximum number of reducers:\n",
      "  set hive.exec.reducers.max=<number>\n",
      "In order to set a constant number of reducers:\n",
      "  set mapreduce.job.reduces=<number>\n",
      "Starting Job = job_1563431070808_0004, Tracking URL = http://54b67fa7c528:8088/proxy/application_1563431070808_0004/\n",
      "Kill Command = /home/matheus/hadoop-2.9.2/bin/hadoop job  -kill job_1563431070808_0004\n",
      "Hadoop job information for Stage-2: number of mappers: 1; number of reducers: 1\n",
      "2019-07-18 06:29:08,026 Stage-2 map = 0%,  reduce = 0%\n",
      "2019-07-18 06:29:12,182 Stage-2 map = 100%,  reduce = 0%, Cumulative CPU 1.64 sec\n",
      "2019-07-18 06:29:16,267 Stage-2 map = 100%,  reduce = 100%, Cumulative CPU 3.1 sec\n",
      "MapReduce Total cumulative CPU time: 3 seconds 100 msec\n",
      "Ended Job = job_1563431070808_0004\n",
      "2019-07-18 06:29:20\tStarting to launch local task to process map join;\tmaximum memory = 477626368\n",
      "2019-07-18 06:29:20\tStarting to launch local task to process map join;\tmaximum memory = 477626368\n",
      "2019-07-18 06:29:21\tDump the side-table for tag: 1 with group count: 9742 into file: file:/tmp/matheus/0354b595-f271-45b6-9dfd-5c655cfc2300/hive_2019-07-18_06-28-40_846_3332176836647057025-1/-local-10006/HashTable-Stage-5/MapJoin-mapfile01--.hashtable\n",
      "2019-07-18 06:29:21\tUploaded 1 File to: file:/tmp/matheus/0354b595-f271-45b6-9dfd-5c655cfc2300/hive_2019-07-18_06-28-40_846_3332176836647057025-1/-local-10006/HashTable-Stage-5/MapJoin-mapfile01--.hashtable (439750 bytes)\n",
      "2019-07-18 06:29:21\tEnd of local task; Time Taken: 1.08 sec.\n",
      "Execution completed successfully\n",
      "MapredLocal task succeeded\n",
      "Launching Job 3 out of 3\n",
      "Number of reduce tasks is set to 0 since there's no reduce operator\n",
      "Starting Job = job_1563431070808_0005, Tracking URL = http://54b67fa7c528:8088/proxy/application_1563431070808_0005/\n",
      "Kill Command = /home/matheus/hadoop-2.9.2/bin/hadoop job  -kill job_1563431070808_0005\n",
      "2019-07-18 06:29:21\tDump the side-table for tag: 1 with group count: 9742 into file: file:/tmp/matheus/0354b595-f271-45b6-9dfd-5c655cfc2300/hive_2019-07-18_06-28-40_846_3332176836647057025-1/-local-10006/HashTable-Stage-5/MapJoin-mapfile01--.hashtable\n",
      "2019-07-18 06:29:21\tUploaded 1 File to: file:/tmp/matheus/0354b595-f271-45b6-9dfd-5c655cfc2300/hive_2019-07-18_06-28-40_846_3332176836647057025-1/-local-10006/HashTable-Stage-5/MapJoin-mapfile01--.hashtable (439750 bytes)\n",
      "2019-07-18 06:29:21\tEnd of local task; Time Taken: 1.08 sec.\n",
      "Hadoop job information for Stage-5: number of mappers: 1; number of reducers: 0\n",
      "2019-07-18 06:29:28,224 Stage-5 map = 0%,  reduce = 0%\n",
      "2019-07-18 06:29:32,366 Stage-5 map = 100%,  reduce = 0%, Cumulative CPU 1.54 sec\n",
      "MapReduce Total cumulative CPU time: 1 seconds 540 msec\n",
      "Ended Job = job_1563431070808_0005\n",
      "MapReduce Jobs Launched: \n",
      "Stage-Stage-1: Map: 1  Reduce: 1   Cumulative CPU: 4.58 sec   HDFS Read: 2491372 HDFS Write: 208883 SUCCESS\n",
      "Stage-Stage-2: Map: 1  Reduce: 1   Cumulative CPU: 3.1 sec   HDFS Read: 213551 HDFS Write: 208883 SUCCESS\n",
      "Stage-Stage-5: Map: 1   Cumulative CPU: 1.54 sec   HDFS Read: 5834 HDFS Write: 478 SUCCESS\n",
      "Total MapReduce CPU Time Spent: 9 seconds 220 msec\n",
      "OK\n",
      "+--------------------------------------------+--------------+\n",
      "|                  n.title                   | ratingcount  |\n",
      "+--------------------------------------------+--------------+\n",
      "| Forrest Gump (1994)                        | 329          |\n",
      "| \"Shawshank Redemption                      | 317          |\n",
      "| Pulp Fiction (1994)                        | 307          |\n",
      "| \"Silence of the Lambs                      | 279          |\n",
      "| \"Matrix                                    | 278          |\n",
      "| Star Wars: Episode IV - A New Hope (1977)  | 251          |\n",
      "| Jurassic Park (1993)                       | 238          |\n",
      "| Braveheart (1995)                          | 237          |\n",
      "| Terminator 2: Judgment Day (1991)          | 224          |\n",
      "| Schindler's List (1993)                    | 220          |\n",
      "+--------------------------------------------+--------------+\n",
      "10 rows selected (52.674 seconds)\n",
      "Beeline version 2.3.5 by Apache Hive\n",
      "Closing: 0: jdbc:hive2://\n"
     ]
    }
   ],
   "source": [
    "!beeline -u \"jdbc:hive2://\" -e \"USE movielens;  SELECT n.title, ratingCount                                                          \\\n",
    "                                                FROM topMoviesIds t JOIN movieNames n ON t.movieID = n.movieID       \\\n",
    "                                                LIMIT 10;\""
   ]
  },
  {
   "cell_type": "markdown",
   "metadata": {},
   "source": [
    "# It's your turn"
   ]
  },
  {
   "cell_type": "markdown",
   "metadata": {},
   "source": [
    "## Find the movie with the highest average time"
   ]
  },
  {
   "cell_type": "markdown",
   "metadata": {},
   "source": [
    "What do you think about this result??"
   ]
  },
  {
   "cell_type": "markdown",
   "metadata": {},
   "source": [
    "#Select to see the result\n",
    "\n",
    "<font color='white'>\n",
    "SELECT movieID, AVG(rating) as ratingAVG<br>\n",
    "FROM ratings<br>\n",
    "GROUP BY movieID<br>\n",
    "ORDER BY ratingAVG DESC;<br>\n",
    "LIMIT 10;\n",
    "</font>\n"
   ]
  },
  {
   "cell_type": "markdown",
   "metadata": {},
   "source": [
    "## Find the movie with the highest average time, only considering movies with more than 10 ratings"
   ]
  },
  {
   "cell_type": "markdown",
   "metadata": {},
   "source": [
    "#Select to see the result\n",
    "\n",
    "<font color='white'>\n",
    "SOLUTION 1: <br>\n",
    "SELECT r.movieID, m.title, AVG(r.rating) as ratingAVG, COUNT(r.rating) as ratingCount<br>\n",
    "FROM ratings r JOIN movieNames m ON r.movieID = m.movieID<br>\n",
    "GROUP BY r.movieID, m.title<br>\n",
    "HAVING ratingCount > 10<br>\n",
    "ORDER BY ratingAVG DESC<br>\n",
    "LIMIT 10;<br><br>\n",
    "SOLUTION 2:<br>\n",
    "CREATE VIEW avgMoviesIds AS<br>\n",
    "SELECT movieID, AVG(rating) as ratingAVG<br>\n",
    "FROM ratings<br>\n",
    "GROUP BY movieID<br>\n",
    "ORDER BY ratingAVG DESC;<br>\n",
    "<br>\n",
    "SELECT n.title as titles, a.ratingAVG as average, t.ratingCount as rating<br>\n",
    "FROM avgMoviesIds a JOIN topMoviesIds t ON a.movieID = t.movieID<br>\n",
    "    JOIN movieNames n ON t.movieID = n.movieID<br>\n",
    "WHERE t.ratingCount >10<br>\n",
    "ORDER BY average DESC<br>\n",
    "LIMIT 10;\n",
    "</font>\n"
   ]
  }
 ],
 "metadata": {
  "kernelspec": {
   "display_name": "Python 3",
   "language": "python",
   "name": "python3"
  },
  "language_info": {
   "codemirror_mode": {
    "name": "ipython",
    "version": 3
   },
   "file_extension": ".py",
   "mimetype": "text/x-python",
   "name": "python",
   "nbconvert_exporter": "python",
   "pygments_lexer": "ipython3",
   "version": "3.7.3"
  }
 },
 "nbformat": 4,
 "nbformat_minor": 2
}
