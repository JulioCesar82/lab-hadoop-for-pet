{
 "cells": [
  {
   "cell_type": "markdown",
   "metadata": {},
   "source": [
    "# Introduction"
   ]
  },
  {
   "cell_type": "markdown",
   "metadata": {},
   "source": [
    "In this demo we will be using the [MovieLens Dataset](https://grouplens.org/datasets/movielens/). The dataset slicing options are:\n",
    "\n",
    "* **[Small](http://files.grouplens.org/datasets/movielens/ml-latest-small.zip):** 100,000 ratings and 3,600 tag applications applied to 9,000 movies by 600 users. Last updated 9/2018.\n",
    "* **[Full](http://files.grouplens.org/datasets/movielens/ml-latest.zip):** 27,000,000 ratings and 1,100,000 tag applications applied to 58,000 movies by 280,000 users. Last updated 9/2018.\n",
    "\n"
   ]
  },
  {
   "cell_type": "code",
   "execution_count": 1,
   "metadata": {},
   "outputs": [
    {
     "name": "stdout",
     "output_type": "stream",
     "text": [
      "ml-latest-small.zip 100%[===================>] 955.28K  1.26MB/s    in 0.7s    \n",
      "Archive:  ml-latest-small.zip\n",
      "   creating: ml-latest-small/\n",
      "  inflating: ml-latest-small/links.csv  \n",
      "  inflating: ml-latest-small/tags.csv  \n",
      "  inflating: ml-latest-small/ratings.csv  \n",
      "  inflating: ml-latest-small/README.txt  \n",
      "  inflating: ml-latest-small/movies.csv  \n"
     ]
    }
   ],
   "source": [
    "!wget http://files.grouplens.org/datasets/movielens/ml-latest-small.zip -q --show-progress\n",
    "!unzip ml-latest-small.zip\n",
    "!rm ml-latest-small.zip"
   ]
  },
  {
   "cell_type": "code",
   "execution_count": 2,
   "metadata": {},
   "outputs": [
    {
     "name": "stdout",
     "output_type": "stream",
     "text": [
      "env: DATASET_PATH=/home/jovyan/labs/lab3-hive/ml-latest-small\n"
     ]
    }
   ],
   "source": [
    "%env DATASET_PATH /home/jovyan/labs/lab3-hive/ml-latest-small"
   ]
  },
  {
   "cell_type": "markdown",
   "metadata": {},
   "source": [
    "# Creating a database\n",
    "\n",
    "We will be using Hive's [Beeline CLS](https://cwiki.apache.org/confluence/display/Hive/HiveServer2+Clients#HiveServer2Clients-Beeline%E2%80%93CommandLineShell).\n",
    "\n",
    "Listing databases:"
   ]
  },
  {
   "cell_type": "code",
   "execution_count": 3,
   "metadata": {},
   "outputs": [
    {
     "name": "stdout",
     "output_type": "stream",
     "text": [
      "Connecting to jdbc:hive2://\n",
      "Connected to: Apache Hive (version 2.3.7)\n",
      "Driver: Hive JDBC (version 2.3.7)\n",
      "Transaction isolation: TRANSACTION_REPEATABLE_READ\n",
      "OK\n",
      "+----------------+\n",
      "| database_name  |\n",
      "+----------------+\n",
      "| default        |\n",
      "| movielens      |\n",
      "+----------------+\n",
      "2 rows selected (1.482 seconds)\n",
      "Beeline version 2.3.7 by Apache Hive\n",
      "Closing: 0: jdbc:hive2://\n"
     ]
    }
   ],
   "source": [
    "!cd ~/resources/local/hive-2.3.7/bin/ && ./beeline -u \"jdbc:hive2://\" -e \"SHOW DATABASES;\""
   ]
  },
  {
   "cell_type": "code",
   "execution_count": 4,
   "metadata": {},
   "outputs": [
    {
     "name": "stdout",
     "output_type": "stream",
     "text": [
      "Connecting to jdbc:hive2://\n",
      "Connected to: Apache Hive (version 2.3.7)\n",
      "Driver: Hive JDBC (version 2.3.7)\n",
      "Transaction isolation: TRANSACTION_REPEATABLE_READ\n",
      "OK\n",
      "No rows affected (1.288 seconds)\n",
      "Beeline version 2.3.7 by Apache Hive\n",
      "Closing: 0: jdbc:hive2://\n"
     ]
    }
   ],
   "source": [
    "!cd ~/resources/local/hive-2.3.7/bin/ && ./beeline -u \"jdbc:hive2://\" -e \"CREATE DATABASE IF NOT EXISTS movielens;\""
   ]
  },
  {
   "cell_type": "code",
   "execution_count": 5,
   "metadata": {},
   "outputs": [
    {
     "name": "stdout",
     "output_type": "stream",
     "text": [
      "Connecting to jdbc:hive2://\n",
      "Connected to: Apache Hive (version 2.3.7)\n",
      "Driver: Hive JDBC (version 2.3.7)\n",
      "Transaction isolation: TRANSACTION_REPEATABLE_READ\n",
      "OK\n",
      "+----------------+\n",
      "| database_name  |\n",
      "+----------------+\n",
      "| default        |\n",
      "| movielens      |\n",
      "+----------------+\n",
      "2 rows selected (1.387 seconds)\n",
      "Beeline version 2.3.7 by Apache Hive\n",
      "Closing: 0: jdbc:hive2://\n"
     ]
    }
   ],
   "source": [
    "!cd ~/resources/local/hive-2.3.7/bin/ && ./beeline -u \"jdbc:hive2://\" -e \"SHOW DATABASES;\""
   ]
  },
  {
   "cell_type": "markdown",
   "metadata": {},
   "source": [
    "## Creating a table ratings in the movielens database"
   ]
  },
  {
   "cell_type": "code",
   "execution_count": 6,
   "metadata": {},
   "outputs": [
    {
     "name": "stdout",
     "output_type": "stream",
     "text": [
      "Connecting to jdbc:hive2://\n",
      "Connected to: Apache Hive (version 2.3.7)\n",
      "Driver: Hive JDBC (version 2.3.7)\n",
      "Transaction isolation: TRANSACTION_REPEATABLE_READ\n",
      "OK\n",
      "No rows affected (1.284 seconds)\n",
      "OK\n",
      "+-----------+\n",
      "| tab_name  |\n",
      "+-----------+\n",
      "+-----------+\n",
      "No rows selected (0.247 seconds)\n",
      "Beeline version 2.3.7 by Apache Hive\n",
      "Closing: 0: jdbc:hive2://\n"
     ]
    }
   ],
   "source": [
    "#Verifying tables\n",
    "!cd ~/resources/local/hive-2.3.7/bin/ && ./beeline -u \"jdbc:hive2://\" -e \"USE movielens; SHOW tables;\""
   ]
  },
  {
   "cell_type": "code",
   "execution_count": 7,
   "metadata": {},
   "outputs": [
    {
     "name": "stdout",
     "output_type": "stream",
     "text": [
      "Connecting to jdbc:hive2://\n",
      "Connected to: Apache Hive (version 2.3.7)\n",
      "Driver: Hive JDBC (version 2.3.7)\n",
      "Transaction isolation: TRANSACTION_REPEATABLE_READ\n",
      "OK\n",
      "No rows affected (1.267 seconds)\n",
      "OK\n",
      "No rows affected (0.905 seconds)\n",
      "Beeline version 2.3.7 by Apache Hive\n",
      "Closing: 0: jdbc:hive2://\n"
     ]
    }
   ],
   "source": [
    "#Creating table ratings\n",
    "!cd ~/resources/local/hive-2.3.7/bin/ && ./beeline -u \"jdbc:hive2://\" -e \"USE movielens; CREATE TABLE ratings(                                           \\\n",
    "                                                                     userID  INT,                              \\\n",
    "                                                                     movieID INT,                              \\\n",
    "                                                                     rating  INT,                              \\\n",
    "                                                                     time    INT )                             \\\n",
    "                                                            ROW FORMAT DELIMITED                               \\\n",
    "                                                            FIELDS TERMINATED BY ','                           \\\n",
    "                                                            STORED AS TEXTFILE                                 \\\n",
    "                                                            tblproperties(\\\"skip.header.line.count\\\"=\\\"1\\\");\""
   ]
  },
  {
   "cell_type": "code",
   "execution_count": 8,
   "metadata": {},
   "outputs": [
    {
     "name": "stdout",
     "output_type": "stream",
     "text": [
      "Connecting to jdbc:hive2://\n",
      "Connected to: Apache Hive (version 2.3.7)\n",
      "Driver: Hive JDBC (version 2.3.7)\n",
      "Transaction isolation: TRANSACTION_REPEATABLE_READ\n",
      "OK\n",
      "No rows affected (1.233 seconds)\n",
      "OK\n",
      "+-----------+\n",
      "| tab_name  |\n",
      "+-----------+\n",
      "| ratings   |\n",
      "+-----------+\n",
      "1 row selected (0.434 seconds)\n",
      "Beeline version 2.3.7 by Apache Hive\n",
      "Closing: 0: jdbc:hive2://\n"
     ]
    }
   ],
   "source": [
    "!cd ~/resources/local/hive-2.3.7/bin/ && ./beeline -u \"jdbc:hive2://\" -e \"USE movielens; SHOW tables;\""
   ]
  },
  {
   "cell_type": "markdown",
   "metadata": {},
   "source": [
    "## Import data from local file system"
   ]
  },
  {
   "cell_type": "code",
   "execution_count": 9,
   "metadata": {},
   "outputs": [
    {
     "name": "stdout",
     "output_type": "stream",
     "text": [
      "Connecting to jdbc:hive2://\n",
      "Connected to: Apache Hive (version 2.3.7)\n",
      "Driver: Hive JDBC (version 2.3.7)\n",
      "Transaction isolation: TRANSACTION_REPEATABLE_READ\n",
      "OK\n",
      "No rows affected (1.24 seconds)\n",
      "OK\n",
      "+-----------------+------------------+-----------------+---------------+\n",
      "| ratings.userid  | ratings.movieid  | ratings.rating  | ratings.time  |\n",
      "+-----------------+------------------+-----------------+---------------+\n",
      "+-----------------+------------------+-----------------+---------------+\n",
      "No rows selected (1.964 seconds)\n",
      "Beeline version 2.3.7 by Apache Hive\n",
      "Closing: 0: jdbc:hive2://\n"
     ]
    }
   ],
   "source": [
    "!cd ~/resources/local/hive-2.3.7/bin/ && ./beeline -u \"jdbc:hive2://\" -e \"USE movielens; SELECT * FROM ratings;\""
   ]
  },
  {
   "cell_type": "code",
   "execution_count": 10,
   "metadata": {},
   "outputs": [
    {
     "name": "stdout",
     "output_type": "stream",
     "text": [
      "Connecting to jdbc:hive2://\n",
      "Connected to: Apache Hive (version 2.3.7)\n",
      "Driver: Hive JDBC (version 2.3.7)\n",
      "Transaction isolation: TRANSACTION_REPEATABLE_READ\n",
      "OK\n",
      "No rows affected (1.248 seconds)\n",
      "Loading data to table movielens.ratings\n",
      "OK\n",
      "No rows affected (1.423 seconds)\n",
      "Beeline version 2.3.7 by Apache Hive\n",
      "Closing: 0: jdbc:hive2://\n"
     ]
    }
   ],
   "source": [
    "#Loading data\n",
    "!cd ~/resources/local/hive-2.3.7/bin/ && ./beeline -u \"jdbc:hive2://\" -e \"USE movielens;  LOAD DATA LOCAL INPATH '$DATASET_PATH/ratings.csv'\\\n",
    "                                                OVERWRITE INTO TABLE ratings;\""
   ]
  },
  {
   "cell_type": "code",
   "execution_count": 11,
   "metadata": {},
   "outputs": [
    {
     "name": "stdout",
     "output_type": "stream",
     "text": [
      "Connecting to jdbc:hive2://\n",
      "Connected to: Apache Hive (version 2.3.7)\n",
      "Driver: Hive JDBC (version 2.3.7)\n",
      "Transaction isolation: TRANSACTION_REPEATABLE_READ\n",
      "OK\n",
      "No rows affected (1.204 seconds)\n",
      "OK\n",
      "+-----------------+------------------+-----------------+---------------+\n",
      "| ratings.userid  | ratings.movieid  | ratings.rating  | ratings.time  |\n",
      "+-----------------+------------------+-----------------+---------------+\n",
      "| 1               | 1                | 4               | 964982703     |\n",
      "| 1               | 3                | 4               | 964981247     |\n",
      "| 1               | 6                | 4               | 964982224     |\n",
      "| 1               | 47               | 5               | 964983815     |\n",
      "| 1               | 50               | 5               | 964982931     |\n",
      "| 1               | 70               | 3               | 964982400     |\n",
      "| 1               | 101              | 5               | 964980868     |\n",
      "| 1               | 110              | 4               | 964982176     |\n",
      "| 1               | 151              | 5               | 964984041     |\n",
      "| 1               | 157              | 5               | 964984100     |\n",
      "+-----------------+------------------+-----------------+---------------+\n",
      "10 rows selected (2.001 seconds)\n",
      "Beeline version 2.3.7 by Apache Hive\n",
      "Closing: 0: jdbc:hive2://\n"
     ]
    }
   ],
   "source": [
    "!cd ~/resources/local/hive-2.3.7/bin/ && ./beeline -u \"jdbc:hive2://\" -e \"USE movielens; SELECT * FROM ratings LIMIT 10;\""
   ]
  },
  {
   "cell_type": "markdown",
   "metadata": {},
   "source": [
    "## Verifying the file created by Hive"
   ]
  },
  {
   "cell_type": "code",
   "execution_count": 12,
   "metadata": {},
   "outputs": [
    {
     "name": "stdout",
     "output_type": "stream",
     "text": [
      "Found 1 items\n",
      "drwxrwxr-x   - jovyan supergroup          0 2020-10-14 00:08 /user/hive/warehouse/movielens.db\n",
      "Found 1 items\n",
      "drwxrwxr-x   - jovyan supergroup          0 2020-10-14 00:09 /user/hive/warehouse/movielens.db/ratings\n",
      "Found 1 items\n",
      "-rwxrwxr-x   1 jovyan supergroup    2483723 2020-10-14 00:09 /user/hive/warehouse/movielens.db/ratings/ratings.csv\n"
     ]
    }
   ],
   "source": [
    "!hdfs dfs -ls /user/hive/warehouse/\n",
    "!hdfs dfs -ls /user/hive/warehouse/movielens.db/\n",
    "!hdfs dfs -ls /user/hive/warehouse/movielens.db/ratings"
   ]
  },
  {
   "cell_type": "markdown",
   "metadata": {},
   "source": [
    "## Finding the most popular movie"
   ]
  },
  {
   "cell_type": "code",
   "execution_count": 13,
   "metadata": {},
   "outputs": [
    {
     "name": "stdout",
     "output_type": "stream",
     "text": [
      "Connecting to jdbc:hive2://\n",
      "Connected to: Apache Hive (version 2.3.7)\n",
      "Driver: Hive JDBC (version 2.3.7)\n",
      "Transaction isolation: TRANSACTION_REPEATABLE_READ\n",
      "OK\n",
      "No rows affected (1.232 seconds)\n",
      "WARNING: Hive-on-MR is deprecated in Hive 2 and may not be available in the future versions. Consider using a different execution engine (i.e. spark, tez) or using Hive 1.X releases.\n",
      "Query ID = jovyan_20201014001001_cff76090-e09b-4f5f-aa55-5a50fc341b5c\n",
      "Total jobs = 2\n",
      "Launching Job 1 out of 2\n",
      "WARNING: Hive-on-MR is deprecated in Hive 2 and may not be available in the future versions. Consider using a different execution engine (i.e. spark, tez) or using Hive 1.X releases.\n",
      "Number of reduce tasks not specified. Estimated from input data size: 1\n",
      "In order to change the average load for a reducer (in bytes):\n",
      "  set hive.exec.reducers.bytes.per.reducer=<number>\n",
      "In order to limit the maximum number of reducers:\n",
      "  set hive.exec.reducers.max=<number>\n",
      "In order to set a constant number of reducers:\n",
      "  set mapreduce.job.reduces=<number>\n",
      "Starting Job = job_1602633141551_0001, Tracking URL = http://jupyter-thedatasociety-2dlab-2dhadoop-2dbyh3hjxu:8088/proxy/application_1602633141551_0001/\n",
      "Kill Command = /home/jovyan/resources/local/hadoop-2.9.2/bin/hadoop job  -kill job_1602633141551_0001\n",
      "Hadoop job information for Stage-1: number of mappers: 1; number of reducers: 1\n",
      "2020-10-14 00:10:23,866 Stage-1 map = 0%,  reduce = 0%\n",
      "2020-10-14 00:10:42,671 Stage-1 map = 100%,  reduce = 0%, Cumulative CPU 2.37 sec\n",
      "2020-10-14 00:11:00,298 Stage-1 map = 100%,  reduce = 100%, Cumulative CPU 4.71 sec\n",
      "MapReduce Total cumulative CPU time: 4 seconds 710 msec\n",
      "Ended Job = job_1602633141551_0001\n",
      "Launching Job 2 out of 2\n",
      "Number of reduce tasks determined at compile time: 1\n",
      "In order to change the average load for a reducer (in bytes):\n",
      "  set hive.exec.reducers.bytes.per.reducer=<number>\n",
      "In order to limit the maximum number of reducers:\n",
      "  set hive.exec.reducers.max=<number>\n",
      "In order to set a constant number of reducers:\n",
      "  set mapreduce.job.reduces=<number>\n",
      "Starting Job = job_1602633141551_0002, Tracking URL = http://jupyter-thedatasociety-2dlab-2dhadoop-2dbyh3hjxu:8088/proxy/application_1602633141551_0002/\n",
      "Kill Command = /home/jovyan/resources/local/hadoop-2.9.2/bin/hadoop job  -kill job_1602633141551_0002\n",
      "Hadoop job information for Stage-2: number of mappers: 1; number of reducers: 1\n",
      "2020-10-14 00:11:15,963 Stage-2 map = 0%,  reduce = 0%\n",
      "2020-10-14 00:11:30,487 Stage-2 map = 100%,  reduce = 0%, Cumulative CPU 1.66 sec\n",
      "2020-10-14 00:11:36,687 Stage-2 map = 100%,  reduce = 100%, Cumulative CPU 3.37 sec\n",
      "MapReduce Total cumulative CPU time: 3 seconds 370 msec\n",
      "Ended Job = job_1602633141551_0002\n",
      "MapReduce Jobs Launched: \n",
      "Stage-Stage-1: Map: 1  Reduce: 1   Cumulative CPU: 4.71 sec   HDFS Read: 2491235 HDFS Write: 208883 SUCCESS\n",
      "Stage-Stage-2: Map: 1  Reduce: 1   Cumulative CPU: 3.37 sec   HDFS Read: 214527 HDFS Write: 288 SUCCESS\n",
      "Total MapReduce CPU Time Spent: 8 seconds 80 msec\n",
      "OK\n",
      "+----------+--------------+\n",
      "| movieid  | ratingcount  |\n",
      "+----------+--------------+\n",
      "| 356      | 329          |\n",
      "| 318      | 317          |\n",
      "| 296      | 307          |\n",
      "| 593      | 279          |\n",
      "| 2571     | 278          |\n",
      "| 260      | 251          |\n",
      "| 480      | 238          |\n",
      "| 110      | 237          |\n",
      "| 589      | 224          |\n",
      "| 527      | 220          |\n",
      "+----------+--------------+\n",
      "10 rows selected (98.22 seconds)\n",
      "Beeline version 2.3.7 by Apache Hive\n",
      "Closing: 0: jdbc:hive2://\n"
     ]
    }
   ],
   "source": [
    "!cd ~/resources/local/hive-2.3.7/bin/ && ./beeline -u \"jdbc:hive2://\" -e \"USE movielens; SELECT movieID, COUNT(movieID) as ratingCount  \\\n",
    "                                                                                FROM ratings                   \\\n",
    "                                                                                GROUP BY movieID               \\\n",
    "                                                                                ORDER BY ratingCount DESC      \\\n",
    "                                                                                LIMIT 10;\""
   ]
  },
  {
   "cell_type": "markdown",
   "metadata": {},
   "source": [
    "## Finding the name of the most popular movie"
   ]
  },
  {
   "cell_type": "markdown",
   "metadata": {},
   "source": [
    "### Creating a new table that contains movies' title"
   ]
  },
  {
   "cell_type": "code",
   "execution_count": 14,
   "metadata": {},
   "outputs": [
    {
     "name": "stdout",
     "output_type": "stream",
     "text": [
      "Connecting to jdbc:hive2://\n",
      "Connected to: Apache Hive (version 2.3.7)\n",
      "Driver: Hive JDBC (version 2.3.7)\n",
      "Transaction isolation: TRANSACTION_REPEATABLE_READ\n",
      "OK\n",
      "No rows affected (1.213 seconds)\n",
      "OK\n",
      "No rows affected (0.806 seconds)\n",
      "Beeline version 2.3.7 by Apache Hive\n",
      "Closing: 0: jdbc:hive2://\n"
     ]
    }
   ],
   "source": [
    "#Creating a new table called movieNames\n",
    "!cd ~/resources/local/hive-2.3.7/bin/ && ./beeline -u \"jdbc:hive2://\" -e \"USE movielens; CREATE TABLE movieNames(                                                   \\\n",
    "                                                                        movieID  INT,                                     \\\n",
    "                                                                        title STRING)                                     \\\n",
    "                                                                        ROW FORMAT DELIMITED                              \\\n",
    "                                                                        FIELDS TERMINATED BY ','                          \\\n",
    "                                                                        STORED AS TEXTFILE                                \\\n",
    "                                                                        tblproperties(\\\"skip.header.line.count\\\"=\\\"1\\\");\"                                                        "
   ]
  },
  {
   "cell_type": "code",
   "execution_count": 15,
   "metadata": {},
   "outputs": [
    {
     "name": "stdout",
     "output_type": "stream",
     "text": [
      "Connecting to jdbc:hive2://\n",
      "Connected to: Apache Hive (version 2.3.7)\n",
      "Driver: Hive JDBC (version 2.3.7)\n",
      "Transaction isolation: TRANSACTION_REPEATABLE_READ\n",
      "OK\n",
      "No rows affected (1.952 seconds)\n",
      "Loading data to table movielens.movienames\n",
      "OK\n",
      "No rows affected (1.342 seconds)\n",
      "Beeline version 2.3.7 by Apache Hive\n",
      "Closing: 0: jdbc:hive2://\n"
     ]
    }
   ],
   "source": [
    "#Loading data into movieNames table\n",
    "!cd ~/resources/local/hive-2.3.7/bin/ && ./beeline -u \"jdbc:hive2://\" -e \"USE movielens;  LOAD DATA LOCAL INPATH '$DATASET_PATH/movies.csv'       \\\n",
    "                                                OVERWRITE INTO TABLE movieNames;\""
   ]
  },
  {
   "cell_type": "markdown",
   "metadata": {},
   "source": [
    "### Creating a view to store the movies' popularity"
   ]
  },
  {
   "cell_type": "code",
   "execution_count": 16,
   "metadata": {},
   "outputs": [
    {
     "name": "stdout",
     "output_type": "stream",
     "text": [
      "Connecting to jdbc:hive2://\n",
      "Connected to: Apache Hive (version 2.3.7)\n",
      "Driver: Hive JDBC (version 2.3.7)\n",
      "Transaction isolation: TRANSACTION_REPEATABLE_READ\n",
      "OK\n",
      "No rows affected (1.273 seconds)\n",
      "OK\n",
      "No rows affected (2.271 seconds)\n",
      "Beeline version 2.3.7 by Apache Hive\n",
      "Closing: 0: jdbc:hive2://\n"
     ]
    }
   ],
   "source": [
    "!cd ~/resources/local/hive-2.3.7/bin/ && ./beeline -u \"jdbc:hive2://\" -e \"USE movielens;  CREATE VIEW topMoviesIds AS                                          \\\n",
    "                                                SELECT movieID, COUNT(movieID) as ratingCount        \\\n",
    "                                                FROM ratings                                         \\\n",
    "                                                GROUP BY movieID                                     \\\n",
    "                                                ORDER BY ratingCount DESC;\""
   ]
  },
  {
   "cell_type": "markdown",
   "metadata": {},
   "source": [
    "### Finding the name of the most popular movie"
   ]
  },
  {
   "cell_type": "code",
   "execution_count": 17,
   "metadata": {},
   "outputs": [
    {
     "name": "stdout",
     "output_type": "stream",
     "text": [
      "Connecting to jdbc:hive2://\n",
      "Connected to: Apache Hive (version 2.3.7)\n",
      "Driver: Hive JDBC (version 2.3.7)\n",
      "Transaction isolation: TRANSACTION_REPEATABLE_READ\n",
      "OK\n",
      "No rows affected (1.249 seconds)\n",
      "WARNING: Hive-on-MR is deprecated in Hive 2 and may not be available in the future versions. Consider using a different execution engine (i.e. spark, tez) or using Hive 1.X releases.\n",
      "Query ID = jovyan_20201014001243_a9eb7f6c-3929-4d4a-97a3-4da75e05fe70\n",
      "Total jobs = 3\n",
      "Launching Job 1 out of 3\n",
      "Number of reduce tasks not specified. Estimated from input data size: 1\n",
      "In order to change the average load for a reducer (in bytes):\n",
      "  set hive.exec.reducers.bytes.per.reducer=<number>\n",
      "In order to limit the maximum number of reducers:\n",
      "  set hive.exec.reducers.max=<number>\n",
      "In order to set a constant number of reducers:\n",
      "  set mapreduce.job.reduces=<number>\n",
      "WARNING: Hive-on-MR is deprecated in Hive 2 and may not be available in the future versions. Consider using a different execution engine (i.e. spark, tez) or using Hive 1.X releases.\n",
      "Starting Job = job_1602633141551_0003, Tracking URL = http://jupyter-thedatasociety-2dlab-2dhadoop-2dbyh3hjxu:8088/proxy/application_1602633141551_0003/\n",
      "Kill Command = /home/jovyan/resources/local/hadoop-2.9.2/bin/hadoop job  -kill job_1602633141551_0003\n",
      "Hadoop job information for Stage-1: number of mappers: 1; number of reducers: 1\n",
      "2020-10-14 00:13:00,575 Stage-1 map = 0%,  reduce = 0%\n",
      "2020-10-14 00:13:09,996 Stage-1 map = 100%,  reduce = 0%, Cumulative CPU 3.33 sec\n",
      "2020-10-14 00:13:18,381 Stage-1 map = 100%,  reduce = 100%, Cumulative CPU 5.52 sec\n",
      "MapReduce Total cumulative CPU time: 5 seconds 520 msec\n",
      "Ended Job = job_1602633141551_0003\n",
      "Launching Job 2 out of 3\n",
      "Number of reduce tasks determined at compile time: 1\n",
      "In order to change the average load for a reducer (in bytes):\n",
      "  set hive.exec.reducers.bytes.per.reducer=<number>\n",
      "In order to limit the maximum number of reducers:\n",
      "  set hive.exec.reducers.max=<number>\n",
      "In order to set a constant number of reducers:\n",
      "  set mapreduce.job.reduces=<number>\n",
      "Starting Job = job_1602633141551_0004, Tracking URL = http://jupyter-thedatasociety-2dlab-2dhadoop-2dbyh3hjxu:8088/proxy/application_1602633141551_0004/\n",
      "Kill Command = /home/jovyan/resources/local/hadoop-2.9.2/bin/hadoop job  -kill job_1602633141551_0004\n",
      "Hadoop job information for Stage-2: number of mappers: 1; number of reducers: 1\n",
      "2020-10-14 00:13:37,154 Stage-2 map = 0%,  reduce = 0%\n",
      "2020-10-14 00:13:42,453 Stage-2 map = 100%,  reduce = 0%, Cumulative CPU 2.05 sec\n",
      "2020-10-14 00:13:52,882 Stage-2 map = 100%,  reduce = 100%, Cumulative CPU 4.04 sec\n",
      "MapReduce Total cumulative CPU time: 4 seconds 40 msec\n",
      "Ended Job = job_1602633141551_0004\n",
      "2020-10-14 00:13:59\tStarting to launch local task to process map join;\tmaximum memory = 477626368\n",
      "2020-10-14 00:14:00\tDump the side-table for tag: 1 with group count: 9742 into file: file:/tmp/jovyan/a9f0f83c-8c95-4935-af9f-ec8f2fed5796/hive_2020-10-14_00-12-43_717_7759098149171468249-1/-local-10006/HashTable-Stage-5/MapJoin-mapfile01--.hashtable\n",
      "2020-10-14 00:14:00\tUploaded 1 File to: file:/tmp/jovyan/a9f0f83c-8c95-4935-af9f-ec8f2fed5796/hive_2020-10-14_00-12-43_717_7759098149171468249-1/-local-10006/HashTable-Stage-5/MapJoin-mapfile01--.hashtable (439750 bytes)\n",
      "2020-10-14 00:14:00\tEnd of local task; Time Taken: 1.531 sec.\n",
      "2020-10-14 00:13:59\tStarting to launch local task to process map join;\tmaximum memory = 477626368\n",
      "2020-10-14 00:14:00\tDump the side-table for tag: 1 with group count: 9742 into file: file:/tmp/jovyan/a9f0f83c-8c95-4935-af9f-ec8f2fed5796/hive_2020-10-14_00-12-43_717_7759098149171468249-1/-local-10006/HashTable-Stage-5/MapJoin-mapfile01--.hashtable\n",
      "2020-10-14 00:14:00\tUploaded 1 File to: file:/tmp/jovyan/a9f0f83c-8c95-4935-af9f-ec8f2fed5796/hive_2020-10-14_00-12-43_717_7759098149171468249-1/-local-10006/HashTable-Stage-5/MapJoin-mapfile01--.hashtable (439750 bytes)\n",
      "2020-10-14 00:14:00\tEnd of local task; Time Taken: 1.531 sec.\n",
      "Execution completed successfully\n",
      "MapredLocal task succeeded\n",
      "Launching Job 3 out of 3\n",
      "Number of reduce tasks is set to 0 since there's no reduce operator\n",
      "Starting Job = job_1602633141551_0005, Tracking URL = http://jupyter-thedatasociety-2dlab-2dhadoop-2dbyh3hjxu:8088/proxy/application_1602633141551_0005/\n",
      "Kill Command = /home/jovyan/resources/local/hadoop-2.9.2/bin/hadoop job  -kill job_1602633141551_0005\n",
      "Hadoop job information for Stage-5: number of mappers: 1; number of reducers: 0\n",
      "2020-10-14 00:14:14,945 Stage-5 map = 0%,  reduce = 0%\n",
      "2020-10-14 00:14:23,229 Stage-5 map = 100%,  reduce = 0%, Cumulative CPU 1.58 sec\n",
      "MapReduce Total cumulative CPU time: 1 seconds 580 msec\n",
      "Ended Job = job_1602633141551_0005\n",
      "MapReduce Jobs Launched: \n",
      "Stage-Stage-1: Map: 1  Reduce: 1   Cumulative CPU: 5.52 sec   HDFS Read: 2491371 HDFS Write: 208883 SUCCESS\n",
      "Stage-Stage-2: Map: 1  Reduce: 1   Cumulative CPU: 4.04 sec   HDFS Read: 213547 HDFS Write: 208883 SUCCESS\n",
      "Stage-Stage-5: Map: 1   Cumulative CPU: 1.58 sec   HDFS Read: 5826 HDFS Write: 478 SUCCESS\n",
      "Total MapReduce CPU Time Spent: 11 seconds 140 msec\n",
      "OK\n",
      "+--------------------------------------------+--------------+\n",
      "|                  n.title                   | ratingcount  |\n",
      "+--------------------------------------------+--------------+\n",
      "| Forrest Gump (1994)                        | 329          |\n",
      "| \"Shawshank Redemption                      | 317          |\n",
      "| Pulp Fiction (1994)                        | 307          |\n",
      "| \"Silence of the Lambs                      | 279          |\n",
      "| \"Matrix                                    | 278          |\n",
      "| Star Wars: Episode IV - A New Hope (1977)  | 251          |\n",
      "| Jurassic Park (1993)                       | 238          |\n",
      "| Braveheart (1995)                          | 237          |\n",
      "| Terminator 2: Judgment Day (1991)          | 224          |\n",
      "| Schindler's List (1993)                    | 220          |\n",
      "+--------------------------------------------+--------------+\n",
      "10 rows selected (100.725 seconds)\n",
      "Beeline version 2.3.7 by Apache Hive\n",
      "Closing: 0: jdbc:hive2://\n"
     ]
    }
   ],
   "source": [
    "!cd ~/resources/local/hive-2.3.7/bin/ && ./beeline -u \"jdbc:hive2://\" -e \"USE movielens;  SELECT n.title, ratingCount                                                          \\\n",
    "                                                FROM topMoviesIds t JOIN movieNames n ON t.movieID = n.movieID       \\\n",
    "                                                LIMIT 10;\""
   ]
  },
  {
   "cell_type": "markdown",
   "metadata": {},
   "source": [
    "# It's your turn"
   ]
  },
  {
   "cell_type": "markdown",
   "metadata": {},
   "source": [
    "## Find the movie with the highest average time"
   ]
  },
  {
   "cell_type": "code",
   "execution_count": null,
   "metadata": {},
   "outputs": [
    {
     "name": "stdout",
     "output_type": "stream",
     "text": [
      "Connecting to jdbc:hive2://\n",
      "Connected to: Apache Hive (version 2.3.7)\n",
      "Driver: Hive JDBC (version 2.3.7)\n",
      "Transaction isolation: TRANSACTION_REPEATABLE_READ\n",
      "OK\n",
      "No rows affected (1.203 seconds)\n",
      "OK\n",
      "No rows affected (2.095 seconds)\n",
      "No Stats for movielens@ratings, Columns: rating, movieid\n",
      "No Stats for movielens@ratings, Columns: movieid\n",
      "No Stats for movielens@movienames, Columns: movieid, title\n",
      "WARNING: Hive-on-MR is deprecated in Hive 2 and may not be available in the future versions. Consider using a different execution engine (i.e. spark, tez) or using Hive 1.X releases.\n",
      "Query ID = jovyan_20201014001447_5f298913-c9fc-472b-a0e6-4c9e279aef20\n",
      "Total jobs = 9\n",
      "Launching Job 1 out of 9\n",
      "Number of reduce tasks not specified. Estimated from input data size: 1\n",
      "In order to change the average load for a reducer (in bytes):\n",
      "  set hive.exec.reducers.bytes.per.reducer=<number>\n",
      "In order to limit the maximum number of reducers:\n",
      "  set hive.exec.reducers.max=<number>\n",
      "In order to set a constant number of reducers:\n",
      "  set mapreduce.job.reduces=<number>\n",
      "WARNING: Hive-on-MR is deprecated in Hive 2 and may not be available in the future versions. Consider using a different execution engine (i.e. spark, tez) or using Hive 1.X releases.\n",
      "Starting Job = job_1602633141551_0006, Tracking URL = http://jupyter-thedatasociety-2dlab-2dhadoop-2dbyh3hjxu:8088/proxy/application_1602633141551_0006/\n",
      "Kill Command = /home/jovyan/resources/local/hadoop-2.9.2/bin/hadoop job  -kill job_1602633141551_0006\n",
      "Hadoop job information for Stage-1: number of mappers: 1; number of reducers: 1\n",
      "2020-10-14 00:14:57,610 Stage-1 map = 0%,  reduce = 0%\n",
      "2020-10-14 00:15:05,182 Stage-1 map = 100%,  reduce = 0%, Cumulative CPU 3.34 sec\n",
      "2020-10-14 00:15:13,565 Stage-1 map = 100%,  reduce = 100%, Cumulative CPU 5.66 sec\n",
      "MapReduce Total cumulative CPU time: 5 seconds 660 msec\n",
      "Ended Job = job_1602633141551_0006\n",
      "Launching Job 2 out of 9\n",
      "Number of reduce tasks not specified. Estimated from input data size: 1\n",
      "In order to change the average load for a reducer (in bytes):\n",
      "  set hive.exec.reducers.bytes.per.reducer=<number>\n",
      "In order to limit the maximum number of reducers:\n",
      "  set hive.exec.reducers.max=<number>\n",
      "In order to set a constant number of reducers:\n",
      "  set mapreduce.job.reduces=<number>\n",
      "Starting Job = job_1602633141551_0007, Tracking URL = http://jupyter-thedatasociety-2dlab-2dhadoop-2dbyh3hjxu:8088/proxy/application_1602633141551_0007/\n",
      "Kill Command = /home/jovyan/resources/local/hadoop-2.9.2/bin/hadoop job  -kill job_1602633141551_0007\n",
      "Hadoop job information for Stage-5: number of mappers: 1; number of reducers: 1\n",
      "2020-10-14 00:15:31,669 Stage-5 map = 0%,  reduce = 0%\n",
      "2020-10-14 00:15:45,191 Stage-5 map = 100%,  reduce = 0%, Cumulative CPU 3.43 sec\n",
      "2020-10-14 00:15:56,627 Stage-5 map = 100%,  reduce = 100%, Cumulative CPU 6.51 sec\n",
      "MapReduce Total cumulative CPU time: 6 seconds 510 msec\n",
      "Ended Job = job_1602633141551_0007\n",
      "Launching Job 3 out of 9\n",
      "Number of reduce tasks determined at compile time: 1\n",
      "In order to change the average load for a reducer (in bytes):\n",
      "  set hive.exec.reducers.bytes.per.reducer=<number>\n",
      "In order to limit the maximum number of reducers:\n",
      "  set hive.exec.reducers.max=<number>\n",
      "In order to set a constant number of reducers:\n",
      "  set mapreduce.job.reduces=<number>\n",
      "Starting Job = job_1602633141551_0008, Tracking URL = http://jupyter-thedatasociety-2dlab-2dhadoop-2dbyh3hjxu:8088/proxy/application_1602633141551_0008/\n",
      "Kill Command = /home/jovyan/resources/local/hadoop-2.9.2/bin/hadoop job  -kill job_1602633141551_0008\n",
      "Hadoop job information for Stage-2: number of mappers: 1; number of reducers: 1\n",
      "2020-10-14 00:16:14,827 Stage-2 map = 0%,  reduce = 0%\n",
      "2020-10-14 00:16:22,101 Stage-2 map = 100%,  reduce = 0%, Cumulative CPU 1.97 sec\n",
      "2020-10-14 00:16:34,623 Stage-2 map = 100%,  reduce = 100%, Cumulative CPU 3.85 sec\n",
      "MapReduce Total cumulative CPU time: 3 seconds 850 msec\n",
      "Ended Job = job_1602633141551_0008\n",
      "Launching Job 4 out of 9\n",
      "Number of reduce tasks determined at compile time: 1\n",
      "In order to change the average load for a reducer (in bytes):\n",
      "  set hive.exec.reducers.bytes.per.reducer=<number>\n",
      "In order to limit the maximum number of reducers:\n",
      "  set hive.exec.reducers.max=<number>\n",
      "In order to set a constant number of reducers:\n",
      "  set mapreduce.job.reduces=<number>\n",
      "Starting Job = job_1602633141551_0009, Tracking URL = http://jupyter-thedatasociety-2dlab-2dhadoop-2dbyh3hjxu:8088/proxy/application_1602633141551_0009/\n",
      "Kill Command = /home/jovyan/resources/local/hadoop-2.9.2/bin/hadoop job  -kill job_1602633141551_0009\n",
      "Hadoop job information for Stage-6: number of mappers: 1; number of reducers: 1\n",
      "2020-10-14 00:17:03,521 Stage-6 map = 0%,  reduce = 0%\n",
      "2020-10-14 00:17:07,759 Stage-6 map = 100%,  reduce = 0%, Cumulative CPU 1.65 sec\n",
      "2020-10-14 00:17:30,542 Stage-6 map = 100%,  reduce = 100%, Cumulative CPU 3.55 sec\n",
      "MapReduce Total cumulative CPU time: 3 seconds 550 msec\n",
      "Ended Job = job_1602633141551_0009\n",
      "Stage-12 is filtered out by condition resolver.\n",
      "Stage-13 is filtered out by condition resolver.\n",
      "Stage-14 is selected by condition resolver.\n",
      "Stage-3 is filtered out by condition resolver.\n",
      "2020-10-14 00:17:36\tStarting to launch local task to process map join;\tmaximum memory = 477626368\n",
      "2020-10-14 00:17:37\tDump the side-table for tag: 0 with group count: 9724 into file: file:/tmp/jovyan/c678394b-0dba-4a48-a4b6-d5f7b6eb3dd6/hive_2020-10-14_00-14-47_760_5277218314664497613-1/-local-10013/HashTable-Stage-10/MapJoin-mapfile20--.hashtable\n",
      "2020-10-14 00:17:37\tUploaded 1 File to: file:/tmp/jovyan/c678394b-0dba-4a48-a4b6-d5f7b6eb3dd6/hive_2020-10-14_00-14-47_760_5277218314664497613-1/-local-10013/HashTable-Stage-10/MapJoin-mapfile20--.hashtable (286107 bytes)\n",
      "2020-10-14 00:17:37\tDump the side-table for tag: 1 with group count: 2121 into file: file:/tmp/jovyan/c678394b-0dba-4a48-a4b6-d5f7b6eb3dd6/hive_2020-10-14_00-14-47_760_5277218314664497613-1/-local-10013/HashTable-Stage-10/MapJoin-mapfile21--.hashtable\n",
      "2020-10-14 00:17:38\tUploaded 1 File to: file:/tmp/jovyan/c678394b-0dba-4a48-a4b6-d5f7b6eb3dd6/hive_2020-10-14_00-14-47_760_5277218314664497613-1/-local-10013/HashTable-Stage-10/MapJoin-mapfile21--.hashtable (47307 bytes)\n",
      "2020-10-14 00:17:38\tEnd of local task; Time Taken: 1.324 sec.\n",
      "2020-10-14 00:17:36\tStarting to launch local task to process map join;\tmaximum memory = 477626368\n",
      "2020-10-14 00:17:37\tDump the side-table for tag: 0 with group count: 9724 into file: file:/tmp/jovyan/c678394b-0dba-4a48-a4b6-d5f7b6eb3dd6/hive_2020-10-14_00-14-47_760_5277218314664497613-1/-local-10013/HashTable-Stage-10/MapJoin-mapfile20--.hashtable\n",
      "2020-10-14 00:17:37\tUploaded 1 File to: file:/tmp/jovyan/c678394b-0dba-4a48-a4b6-d5f7b6eb3dd6/hive_2020-10-14_00-14-47_760_5277218314664497613-1/-local-10013/HashTable-Stage-10/MapJoin-mapfile20--.hashtable (286107 bytes)\n",
      "2020-10-14 00:17:37\tDump the side-table for tag: 1 with group count: 2121 into file: file:/tmp/jovyan/c678394b-0dba-4a48-a4b6-d5f7b6eb3dd6/hive_2020-10-14_00-14-47_760_5277218314664497613-1/-local-10013/HashTable-Stage-10/MapJoin-mapfile21--.hashtable\n",
      "2020-10-14 00:17:38\tUploaded 1 File to: file:/tmp/jovyan/c678394b-0dba-4a48-a4b6-d5f7b6eb3dd6/hive_2020-10-14_00-14-47_760_5277218314664497613-1/-local-10013/HashTable-Stage-10/MapJoin-mapfile21--.hashtable (47307 bytes)\n",
      "2020-10-14 00:17:38\tEnd of local task; Time Taken: 1.324 sec.\n",
      "Execution completed successfully\n",
      "MapredLocal task succeeded\n",
      "Launching Job 6 out of 9\n",
      "Number of reduce tasks is set to 0 since there's no reduce operator\n",
      "Starting Job = job_1602633141551_0010, Tracking URL = http://jupyter-thedatasociety-2dlab-2dhadoop-2dbyh3hjxu:8088/proxy/application_1602633141551_0010/\n",
      "Kill Command = /home/jovyan/resources/local/hadoop-2.9.2/bin/hadoop job  -kill job_1602633141551_0010\n",
      "Hadoop job information for Stage-10: number of mappers: 1; number of reducers: 0\n",
      "2020-10-14 00:17:51,524 Stage-10 map = 0%,  reduce = 0%\n",
      "2020-10-14 00:17:59,787 Stage-10 map = 100%,  reduce = 0%, Cumulative CPU 2.8 sec\n",
      "MapReduce Total cumulative CPU time: 2 seconds 800 msec\n",
      "Ended Job = job_1602633141551_0010\n",
      "Launching Job 7 out of 9\n",
      "Number of reduce tasks determined at compile time: 1\n",
      "In order to change the average load for a reducer (in bytes):\n",
      "  set hive.exec.reducers.bytes.per.reducer=<number>\n",
      "In order to limit the maximum number of reducers:\n",
      "  set hive.exec.reducers.max=<number>\n",
      "In order to set a constant number of reducers:\n",
      "  set mapreduce.job.reduces=<number>\n",
      "Starting Job = job_1602633141551_0011, Tracking URL = http://jupyter-thedatasociety-2dlab-2dhadoop-2dbyh3hjxu:8088/proxy/application_1602633141551_0011/\n",
      "Kill Command = /home/jovyan/resources/local/hadoop-2.9.2/bin/hadoop job  -kill job_1602633141551_0011\n",
      "Hadoop job information for Stage-4: number of mappers: 1; number of reducers: 1\n",
      "2020-10-14 00:18:20,007 Stage-4 map = 0%,  reduce = 0%\n",
      "2020-10-14 00:18:27,276 Stage-4 map = 100%,  reduce = 0%, Cumulative CPU 1.53 sec\n",
      "2020-10-14 00:18:39,654 Stage-4 map = 100%,  reduce = 100%, Cumulative CPU 3.29 sec\n",
      "MapReduce Total cumulative CPU time: 3 seconds 290 msec\n",
      "Ended Job = job_1602633141551_0011\n",
      "MapReduce Jobs Launched: \n",
      "Stage-Stage-1: Map: 1  Reduce: 1   Cumulative CPU: 5.66 sec   HDFS Read: 2491920 HDFS Write: 277551 SUCCESS\n",
      "Stage-Stage-5: Map: 1  Reduce: 1   Cumulative CPU: 6.51 sec   HDFS Read: 2491620 HDFS Write: 45234 SUCCESS\n",
      "Stage-Stage-2: Map: 1  Reduce: 1   Cumulative CPU: 3.85 sec   HDFS Read: 282213 HDFS Write: 277551 SUCCESS\n",
      "Stage-Stage-6: Map: 1  Reduce: 1   Cumulative CPU: 3.55 sec   HDFS Read: 50031 HDFS Write: 45234 SUCCESS\n",
      "Stage-Stage-10: Map: 1   Cumulative CPU: 2.8 sec   HDFS Read: 501134 HDFS Write: 103992 SUCCESS\n",
      "Stage-Stage-4: Map: 1  Reduce: 1   Cumulative CPU: 3.29 sec   HDFS Read: 109953 HDFS Write: 600 SUCCESS\n",
      "Total MapReduce CPU Time Spent: 25 seconds 660 msec\n",
      "OK\n",
      "+--------------------------------------+---------------------+---------+\n",
      "|                titles                |       average       | rating  |\n",
      "+--------------------------------------+---------------------+---------+\n",
      "| Secrets & Lies (1996)                | 4.545454545454546   | 11      |\n",
      "| Guess Who's Coming to Dinner (1967)  | 4.454545454545454   | 11      |\n",
      "| Paths of Glory (1957)                | 4.416666666666667   | 12      |\n",
      "| Ran (1985)                           | 4.4                 | 15      |\n",
      "| \"Streetcar Named Desire              | 4.4                 | 20      |\n",
      "| \"Shawshank Redemption                | 4.3280757097791795  | 317     |\n",
      "| His Girl Friday (1940)               | 4.285714285714286   | 14      |\n",
      "| It Happened One Night (1934)         | 4.285714285714286   | 14      |\n",
      "| \"Celebration                         | 4.25                | 12      |\n",
      "| \"Philadelphia Story                  | 4.241379310344827   | 29      |\n",
      "+--------------------------------------+---------------------+---------+\n",
      "10 rows selected (233.078 seconds)\n",
      "Beeline version 2.3.7 by Apache Hive\n",
      "Closing: 0: jdbc:hive2://\n"
     ]
    }
   ],
   "source": [
    "!cd ~/resources/local/hive-2.3.7/bin/ && ./beeline -u \"jdbc:hive2://\" -e \"USE movielens;  CREATE VIEW avgMoviesIds AS\\\n",
    "SELECT movieID, AVG(rating) as ratingAVG\\\n",
    "FROM ratings\\\n",
    "GROUP BY movieID\\\n",
    "ORDER BY ratingAVG DESC;\\\n",
    "SELECT n.title as titles, a.ratingAVG as average, t.ratingCount as rating\\\n",
    "FROM avgMoviesIds a JOIN topMoviesIds t ON a.movieID = t.movieID\\\n",
    "JOIN movieNames n ON t.movieID = n.movieID\\\n",
    "WHERE t.ratingCount >10\\\n",
    "ORDER BY average DESC\\\n",
    "LIMIT 10;\""
   ]
  },
  {
   "cell_type": "markdown",
   "metadata": {},
   "source": [
    "What do you think about this result??"
   ]
  },
  {
   "cell_type": "markdown",
   "metadata": {},
   "source": [
    "#Select to see the result\n",
    "\n",
    "<font color='white'>\n",
    "SELECT movieID, AVG(rating) as ratingAVG<br>\n",
    "FROM ratings<br>\n",
    "GROUP BY movieID<br>\n",
    "ORDER BY ratingAVG DESC<br>\n",
    "LIMIT 10;\n",
    "</font>\n"
   ]
  },
  {
   "cell_type": "markdown",
   "metadata": {},
   "source": [
    "## Find the movie with the highest average time, only considering movies with more than 10 ratings"
   ]
  },
  {
   "cell_type": "markdown",
   "metadata": {},
   "source": [
    "#Select to see the result\n",
    "\n",
    "<font color='white'>\n",
    "SOLUTION 1: <br>\n",
    "SELECT r.movieID, m.title, AVG(r.rating) as ratingAVG, COUNT(r.rating) as ratingCount<br>\n",
    "FROM ratings r JOIN movieNames m ON r.movieID = m.movieID<br>\n",
    "GROUP BY r.movieID, m.title<br>\n",
    "HAVING ratingCount > 10<br>\n",
    "ORDER BY ratingAVG DESC<br>\n",
    "LIMIT 10;<br><br>\n",
    "SOLUTION 2:<br>\n",
    "CREATE VIEW avgMoviesIds AS<br>\n",
    "SELECT movieID, AVG(rating) as ratingAVG<br>\n",
    "FROM ratings<br>\n",
    "GROUP BY movieID<br>\n",
    "ORDER BY ratingAVG DESC;<br>\n",
    "<br>\n",
    "SELECT n.title as titles, a.ratingAVG as average, t.ratingCount as rating<br>\n",
    "FROM avgMoviesIds a JOIN topMoviesIds t ON a.movieID = t.movieID<br>\n",
    "    JOIN movieNames n ON t.movieID = n.movieID<br>\n",
    "WHERE t.ratingCount >10<br>\n",
    "ORDER BY average DESC<br>\n",
    "LIMIT 10;\n",
    "</font>\n"
   ]
  }
 ],
 "metadata": {
  "kernelspec": {
   "display_name": "Python 3",
   "language": "python",
   "name": "python3"
  },
  "language_info": {
   "codemirror_mode": {
    "name": "ipython",
    "version": 3
   },
   "file_extension": ".py",
   "mimetype": "text/x-python",
   "name": "python",
   "nbconvert_exporter": "python",
   "pygments_lexer": "ipython3",
   "version": "3.7.8"
  }
 },
 "nbformat": 4,
 "nbformat_minor": 4
}
